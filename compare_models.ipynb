{
 "cells": [
  {
   "cell_type": "markdown",
   "metadata": {},
   "source": [
    "# Dataset"
   ]
  },
  {
   "cell_type": "markdown",
   "metadata": {},
   "source": [
    "### Import Dataset"
   ]
  },
  {
   "cell_type": "code",
   "execution_count": 1,
   "metadata": {},
   "outputs": [
    {
     "name": "stdout",
     "output_type": "stream",
     "text": [
      "<class 'pandas.core.frame.DataFrame'>\n",
      "RangeIndex: 500 entries, 0 to 499\n",
      "Data columns (total 2 columns):\n",
      " #   Column      Non-Null Count  Dtype \n",
      "---  ------      --------------  ----- \n",
      " 0   Pertanyaan  500 non-null    object\n",
      " 1   Tag         500 non-null    object\n",
      "dtypes: object(2)\n",
      "memory usage: 7.9+ KB\n",
      "                                          Pertanyaan   Tag\n",
      "0  Mengapa saya merasa semakin stres setelah berm...  tag1\n",
      "1  Apa yang menyebabkan saya merasa depresi setel...  tag1\n",
      "2  Kenapa perasaan saya memburuk setelah melihat ...  tag1\n",
      "3  Mengapa saya merasa cemas setelah menghabiskan...  tag1\n",
      "4  Apa alasan di balik perasaan tertekan saya set...  tag1\n",
      "['tag1' 'tag10' 'tag11' 'tag12' 'tag13' 'tag14' 'tag15' 'tag16' 'tag17'\n",
      " 'tag18' 'tag19' 'tag2' 'tag20' 'tag21' 'tag22' 'tag23' 'tag24' 'tag25'\n",
      " 'tag3' 'tag4' 'tag5' 'tag6' 'tag7' 'tag8' 'tag9']\n"
     ]
    }
   ],
   "source": [
    "import pandas as pd\n",
    "import numpy as np\n",
    "\n",
    "DATASET_PATH = 'data/Dataset-Mental-Health-with-Tags.xlsx'\n",
    "datasets = pd.read_excel(DATASET_PATH)\n",
    "datasets = datasets[['Pertanyaan', 'Tag']]\n",
    "datasets.info()\n",
    "tags = np.unique(datasets['Tag'])\n",
    "print(datasets.head())\n",
    "print(tags)"
   ]
  },
  {
   "cell_type": "code",
   "execution_count": 2,
   "metadata": {},
   "outputs": [],
   "source": [
    "from Sastrawi.Stemmer.StemmerFactory import StemmerFactory\n",
    "from nltk.corpus import stopwords\n",
    "import re\n",
    "\n",
    "factory = StemmerFactory()\n",
    "stemmer = factory.create_stemmer()\n",
    "stop = stopwords.words('indonesian')\n",
    "\n",
    "def prepare_question(text: str) -> str:\n",
    "  text = text.lower()\n",
    "  text = re.sub(r'[,](?!\\s)', ', ', text)  # Add spasi pada koma tanpa spasi\n",
    "  text = re.sub(r'[.](?!\\s)', '. ', text)  # Add spasi pada titik tanpa spasi\n",
    "  text = text.replace('\\\\t', ' ').replace('\\\\n', ' ').replace('\\\\u', ' ')  # Hapus tab, new line, , dll\n",
    "  text = text.encode('ascii', 'replace').decode('ascii')  # Hapus karakter non ASCII (emoticon, chinese word, dll)\n",
    "  text = re.sub(r\"(?i)(?:https?:\\/\\/)?(?:www\\.)?(?:[a-zA-Z0-9-.]+)(?:\\.[a-zA-Z]{2,6})(?:\\/[^\\s\\r\\n]*)?\", \"\", text)  # Hapus URL\n",
    "  text = re.sub(r'[\\!\\\"\\#\\$\\%\\&\\'\\(\\)\\*\\+\\,\\.\\-\\/\\:\\;\\<\\=\\>\\?\\@\\[\\\\\\]\\^\\_\\`\\{\\|\\}\\~]', ' ', text)  # Ubah tanda baca ke spasi\n",
    "  text = text.strip()  # Hapus whitespace di depan/belakang teks\n",
    "  text = re.sub(r'\\\\s+', ' ', text)  # Hapus double++ spasi\n",
    "  text = re.sub(r'\\\\s+(?=\\.)', '', text)  # Hapus spasi sebelum titik\n",
    "  text = re.sub(r'\\.{2,}', r'\\.', text)  # Hapus titik++\n",
    "  text = ' '.join([word for word in text.split() if word not in (stop)])  # Hapus stopwords\n",
    "  return stemmer.stem(text)  # Return hasil stemming\n",
    "  # return text"
   ]
  },
  {
   "cell_type": "code",
   "execution_count": 3,
   "metadata": {},
   "outputs": [],
   "source": [
    "new_datasets = datasets.sample(frac=1, random_state=42)\n",
    "new_datasets['stem'] = new_datasets['Pertanyaan'].apply(prepare_question)\n",
    "new_datasets.head()\n",
    "\n",
    "new_datasets.to_excel('data/Dataset-Mental-Health-with-Tags-Preprocessed.xlsx', index=False)"
   ]
  },
  {
   "cell_type": "markdown",
   "metadata": {},
   "source": [
    "### Encode dataset"
   ]
  },
  {
   "cell_type": "code",
   "execution_count": 4,
   "metadata": {},
   "outputs": [
    {
     "name": "stdout",
     "output_type": "stream",
     "text": [
      "label\n",
      "10    20\n",
      "7     20\n",
      "14    20\n",
      "3     20\n",
      "5     20\n",
      "18    20\n",
      "24    20\n",
      "8     20\n",
      "2     20\n",
      "16    20\n",
      "9     20\n",
      "6     20\n",
      "11    20\n",
      "19    20\n",
      "17    20\n",
      "20    20\n",
      "13    20\n",
      "1     20\n",
      "0     20\n",
      "15    20\n",
      "22    20\n",
      "12    20\n",
      "21    20\n",
      "23    20\n",
      "4     20\n",
      "Name: count, dtype: int64\n"
     ]
    }
   ],
   "source": [
    "from sklearn.preprocessing import LabelEncoder\n",
    "from sklearn.model_selection import train_test_split\n",
    "\n",
    "# Encode labels\n",
    "le = LabelEncoder()\n",
    "new_datasets['label'] = le.fit_transform(new_datasets['Tag'])\n",
    "# Check class distribution\n",
    "print(new_datasets['label'].value_counts())\n",
    "\n",
    "# Split dataset into training and validation sets\n",
    "train_texts, val_texts, train_labels, val_labels = train_test_split(\n",
    "    list(new_datasets['Pertanyaan']), list(new_datasets['label']), random_state=42, test_size=0.1\n",
    ")"
   ]
  },
  {
   "cell_type": "markdown",
   "metadata": {},
   "source": [
    "# Prepare Training"
   ]
  },
  {
   "cell_type": "markdown",
   "metadata": {},
   "source": [
    "### Define models to train"
   ]
  },
  {
   "cell_type": "code",
   "execution_count": 5,
   "metadata": {},
   "outputs": [],
   "source": [
    "from transformers import BertForSequenceClassification\n",
    "from transformers import AlbertForSequenceClassification\n",
    "from transformers import DistilBertForSequenceClassification\n",
    "from transformers import MobileBertForSequenceClassification\n",
    "from transformers import AutoTokenizer, BertTokenizer\n",
    "from transformers import Trainer, TrainingArguments\n",
    "import torch\n",
    "import time"
   ]
  },
  {
   "cell_type": "code",
   "execution_count": 6,
   "metadata": {},
   "outputs": [],
   "source": [
    "models = [\n",
    "    (\"bert-base-uncased\", BertForSequenceClassification, \"bert-base-uncased\"),\n",
    "    (\"bert-base-multilingual-uncased\", BertForSequenceClassification, \"bert-base-multilingual-uncased\"),\n",
    "    (\"albert/albert-base-v2\", AlbertForSequenceClassification, \"albert-base-v2\"),\n",
    "    (\"distilbert-base-uncased\", DistilBertForSequenceClassification, \"distilbert-base-uncased\"),\n",
    "    ('google/mobilebert-uncased', MobileBertForSequenceClassification, \"mobilebert-uncased\"),\n",
    "    ('cahya/bert-base-indonesian-522M', BertForSequenceClassification, \"bert-base-indonesian-522M\"),\n",
    "]\n",
    "\n",
    "training_durations = {}"
   ]
  },
  {
   "cell_type": "markdown",
   "metadata": {},
   "source": [
    "### Check device used"
   ]
  },
  {
   "cell_type": "code",
   "execution_count": 7,
   "metadata": {},
   "outputs": [
    {
     "name": "stdout",
     "output_type": "stream",
     "text": [
      "cuda\n"
     ]
    }
   ],
   "source": [
    "# Check GPU availability\n",
    "device = torch.device(\"cuda\" if torch.cuda.is_available() else \"cpu\")\n",
    "print(device)"
   ]
  },
  {
   "cell_type": "markdown",
   "metadata": {},
   "source": [
    "### Define PyTorch dataset"
   ]
  },
  {
   "cell_type": "code",
   "execution_count": 8,
   "metadata": {},
   "outputs": [],
   "source": [
    "# Define PyTorch datasets\n",
    "class PyTorchDataset(torch.utils.data.Dataset):\n",
    "    def __init__(self, encodings, labels):\n",
    "        self.encodings = encodings\n",
    "        self.labels = labels\n",
    "\n",
    "    def __getitem__(self, idx):\n",
    "        item = {key: torch.tensor(val[idx]) for key, val in self.encodings.items()}\n",
    "        item['labels'] = torch.tensor(self.labels[idx])\n",
    "        return item\n",
    "\n",
    "    def __len__(self):\n",
    "        return len(self.labels)"
   ]
  },
  {
   "cell_type": "markdown",
   "metadata": {},
   "source": [
    "### Create training function"
   ]
  },
  {
   "cell_type": "code",
   "execution_count": 9,
   "metadata": {},
   "outputs": [],
   "source": [
    "def train_model(model_name, model_class, model_nickname):\n",
    "    # Load tokenizer and model\n",
    "    model = model_class.from_pretrained(model_name, num_labels=len(tags))\n",
    "    tokenizer = AutoTokenizer.from_pretrained(model_name)\n",
    "    \n",
    "    # Tokenize training and validation texts\n",
    "    train_encodings = tokenizer(list(train_texts), truncation=True, padding=True)\n",
    "    val_encodings = tokenizer(list(val_texts), truncation=True, padding=True)\n",
    "\n",
    "    # Create PyTorch datasets\n",
    "    train_datasets = PyTorchDataset(train_encodings, train_labels)\n",
    "    eval_datasets = PyTorchDataset(val_encodings, val_labels)\n",
    "\n",
    "    # Prepare training arguments\n",
    "    training_args = TrainingArguments(\n",
    "        output_dir=f\"./results/{model_name}\",\n",
    "        eval_strategy=\"epoch\",\n",
    "        per_device_train_batch_size=32,\n",
    "        per_device_eval_batch_size=32,\n",
    "        num_train_epochs=20,\n",
    "        logging_dir=f\"./logs/{model_name}\",\n",
    "    )\n",
    "\n",
    "    # Define trainer\n",
    "    trainer = Trainer(\n",
    "        model=model,\n",
    "        args=training_args,\n",
    "        train_dataset=train_datasets,\n",
    "        eval_dataset=eval_datasets,\n",
    "    )\n",
    "\n",
    "    # Fine-tune the model\n",
    "    start_time = time.time()\n",
    "    trainer.train()\n",
    "    end_time = time.time()\n",
    "    training_durations[model_nickname] = end_time - start_time\n",
    "    print(f\"Training time for {model_nickname}: {training_durations[model_nickname]} seconds\")\n",
    "\n",
    "    model.save_pretrained(f\"./results/{model_name}_fine-tuned_mental-health\")\n",
    "    tokenizer.save_pretrained(f\"./results/{model_name}\")\n",
    "    torch.cuda.empty_cache()\n"
   ]
  },
  {
   "cell_type": "markdown",
   "metadata": {},
   "source": [
    "### Start training"
   ]
  },
  {
   "cell_type": "code",
   "execution_count": 10,
   "metadata": {},
   "outputs": [
    {
     "name": "stdout",
     "output_type": "stream",
     "text": [
      "Training bert-base-uncased\n"
     ]
    },
    {
     "name": "stderr",
     "output_type": "stream",
     "text": [
      "Some weights of BertForSequenceClassification were not initialized from the model checkpoint at bert-base-uncased and are newly initialized: ['classifier.bias', 'classifier.weight']\n",
      "You should probably TRAIN this model on a down-stream task to be able to use it for predictions and inference.\n"
     ]
    },
    {
     "data": {
      "application/vnd.jupyter.widget-view+json": {
       "model_id": "4069af95ac7f4e6286227975f70a8a69",
       "version_major": 2,
       "version_minor": 0
      },
      "text/plain": [
       "  0%|          | 0/300 [00:00<?, ?it/s]"
      ]
     },
     "metadata": {},
     "output_type": "display_data"
    },
    {
     "name": "stderr",
     "output_type": "stream",
     "text": [
      "c:\\Users\\PC\\Documents\\Cristian\\Paper-Q3\\.conda\\Lib\\site-packages\\transformers\\models\\bert\\modeling_bert.py:440: UserWarning: 1Torch was not compiled with flash attention. (Triggered internally at C:\\cb\\pytorch_1000000000000\\work\\aten\\src\\ATen\\native\\transformers\\cuda\\sdp_utils.cpp:555.)\n",
      "  attn_output = torch.nn.functional.scaled_dot_product_attention(\n"
     ]
    },
    {
     "data": {
      "application/vnd.jupyter.widget-view+json": {
       "model_id": "c9d40526ffc74405b7b6557b3b32691c",
       "version_major": 2,
       "version_minor": 0
      },
      "text/plain": [
       "  0%|          | 0/2 [00:00<?, ?it/s]"
      ]
     },
     "metadata": {},
     "output_type": "display_data"
    },
    {
     "name": "stdout",
     "output_type": "stream",
     "text": [
      "{'eval_loss': 3.189883232116699, 'eval_runtime': 0.0677, 'eval_samples_per_second': 738.577, 'eval_steps_per_second': 29.543, 'epoch': 1.0}\n"
     ]
    },
    {
     "data": {
      "application/vnd.jupyter.widget-view+json": {
       "model_id": "6f0ba91725a54816bb7f34e24c942cd3",
       "version_major": 2,
       "version_minor": 0
      },
      "text/plain": [
       "  0%|          | 0/2 [00:00<?, ?it/s]"
      ]
     },
     "metadata": {},
     "output_type": "display_data"
    },
    {
     "name": "stdout",
     "output_type": "stream",
     "text": [
      "{'eval_loss': 3.0975584983825684, 'eval_runtime': 0.071, 'eval_samples_per_second': 704.092, 'eval_steps_per_second': 28.164, 'epoch': 2.0}\n"
     ]
    },
    {
     "data": {
      "application/vnd.jupyter.widget-view+json": {
       "model_id": "d9f95ea800d6464eb4545f2cc05eca28",
       "version_major": 2,
       "version_minor": 0
      },
      "text/plain": [
       "  0%|          | 0/2 [00:00<?, ?it/s]"
      ]
     },
     "metadata": {},
     "output_type": "display_data"
    },
    {
     "name": "stdout",
     "output_type": "stream",
     "text": [
      "{'eval_loss': 2.8069591522216797, 'eval_runtime': 0.0608, 'eval_samples_per_second': 822.351, 'eval_steps_per_second': 32.894, 'epoch': 3.0}\n"
     ]
    },
    {
     "data": {
      "application/vnd.jupyter.widget-view+json": {
       "model_id": "52dd6d7df15241879a8360586cfe5adc",
       "version_major": 2,
       "version_minor": 0
      },
      "text/plain": [
       "  0%|          | 0/2 [00:00<?, ?it/s]"
      ]
     },
     "metadata": {},
     "output_type": "display_data"
    },
    {
     "name": "stdout",
     "output_type": "stream",
     "text": [
      "{'eval_loss': 2.3019025325775146, 'eval_runtime': 0.0709, 'eval_samples_per_second': 704.828, 'eval_steps_per_second': 28.193, 'epoch': 4.0}\n"
     ]
    },
    {
     "data": {
      "application/vnd.jupyter.widget-view+json": {
       "model_id": "fa3b0220e021477e9995d366cb611a24",
       "version_major": 2,
       "version_minor": 0
      },
      "text/plain": [
       "  0%|          | 0/2 [00:00<?, ?it/s]"
      ]
     },
     "metadata": {},
     "output_type": "display_data"
    },
    {
     "name": "stdout",
     "output_type": "stream",
     "text": [
      "{'eval_loss': 2.0787534713745117, 'eval_runtime': 0.0584, 'eval_samples_per_second': 856.729, 'eval_steps_per_second': 34.269, 'epoch': 5.0}\n"
     ]
    },
    {
     "data": {
      "application/vnd.jupyter.widget-view+json": {
       "model_id": "6d2a47b76031449a93cc1a934623c667",
       "version_major": 2,
       "version_minor": 0
      },
      "text/plain": [
       "  0%|          | 0/2 [00:00<?, ?it/s]"
      ]
     },
     "metadata": {},
     "output_type": "display_data"
    },
    {
     "name": "stdout",
     "output_type": "stream",
     "text": [
      "{'eval_loss': 1.630377173423767, 'eval_runtime': 0.0696, 'eval_samples_per_second': 718.491, 'eval_steps_per_second': 28.74, 'epoch': 6.0}\n"
     ]
    },
    {
     "data": {
      "application/vnd.jupyter.widget-view+json": {
       "model_id": "8bb3065a72064c62b128716c3d28a04c",
       "version_major": 2,
       "version_minor": 0
      },
      "text/plain": [
       "  0%|          | 0/2 [00:00<?, ?it/s]"
      ]
     },
     "metadata": {},
     "output_type": "display_data"
    },
    {
     "name": "stdout",
     "output_type": "stream",
     "text": [
      "{'eval_loss': 1.3092873096466064, 'eval_runtime': 0.0618, 'eval_samples_per_second': 808.522, 'eval_steps_per_second': 32.341, 'epoch': 7.0}\n"
     ]
    },
    {
     "data": {
      "application/vnd.jupyter.widget-view+json": {
       "model_id": "0e556b51868a41f784dd9b51ae3edd97",
       "version_major": 2,
       "version_minor": 0
      },
      "text/plain": [
       "  0%|          | 0/2 [00:00<?, ?it/s]"
      ]
     },
     "metadata": {},
     "output_type": "display_data"
    },
    {
     "name": "stdout",
     "output_type": "stream",
     "text": [
      "{'eval_loss': 1.0885237455368042, 'eval_runtime': 0.0581, 'eval_samples_per_second': 860.419, 'eval_steps_per_second': 34.417, 'epoch': 8.0}\n"
     ]
    },
    {
     "data": {
      "application/vnd.jupyter.widget-view+json": {
       "model_id": "1c91d5d084f14f23855bb98edc74cd5e",
       "version_major": 2,
       "version_minor": 0
      },
      "text/plain": [
       "  0%|          | 0/2 [00:00<?, ?it/s]"
      ]
     },
     "metadata": {},
     "output_type": "display_data"
    },
    {
     "name": "stdout",
     "output_type": "stream",
     "text": [
      "{'eval_loss': 0.8836129903793335, 'eval_runtime': 0.0658, 'eval_samples_per_second': 759.719, 'eval_steps_per_second': 30.389, 'epoch': 9.0}\n"
     ]
    },
    {
     "data": {
      "application/vnd.jupyter.widget-view+json": {
       "model_id": "655b91e42fda416f87c2ad406eae8995",
       "version_major": 2,
       "version_minor": 0
      },
      "text/plain": [
       "  0%|          | 0/2 [00:00<?, ?it/s]"
      ]
     },
     "metadata": {},
     "output_type": "display_data"
    },
    {
     "name": "stdout",
     "output_type": "stream",
     "text": [
      "{'eval_loss': 0.7321409583091736, 'eval_runtime': 0.0622, 'eval_samples_per_second': 804.064, 'eval_steps_per_second': 32.163, 'epoch': 10.0}\n"
     ]
    },
    {
     "data": {
      "application/vnd.jupyter.widget-view+json": {
       "model_id": "5b02a3d4bf964d059ce3ebbc6de3b9a5",
       "version_major": 2,
       "version_minor": 0
      },
      "text/plain": [
       "  0%|          | 0/2 [00:00<?, ?it/s]"
      ]
     },
     "metadata": {},
     "output_type": "display_data"
    },
    {
     "name": "stdout",
     "output_type": "stream",
     "text": [
      "{'eval_loss': 0.614142894744873, 'eval_runtime': 0.0708, 'eval_samples_per_second': 706.231, 'eval_steps_per_second': 28.249, 'epoch': 11.0}\n"
     ]
    },
    {
     "data": {
      "application/vnd.jupyter.widget-view+json": {
       "model_id": "83ec04c392e84dc9a334e8244f8251ad",
       "version_major": 2,
       "version_minor": 0
      },
      "text/plain": [
       "  0%|          | 0/2 [00:00<?, ?it/s]"
      ]
     },
     "metadata": {},
     "output_type": "display_data"
    },
    {
     "name": "stdout",
     "output_type": "stream",
     "text": [
      "{'eval_loss': 0.526784360408783, 'eval_runtime': 0.064, 'eval_samples_per_second': 781.19, 'eval_steps_per_second': 31.248, 'epoch': 12.0}\n"
     ]
    },
    {
     "data": {
      "application/vnd.jupyter.widget-view+json": {
       "model_id": "ccfa6367c24449ba91f519667bf31403",
       "version_major": 2,
       "version_minor": 0
      },
      "text/plain": [
       "  0%|          | 0/2 [00:00<?, ?it/s]"
      ]
     },
     "metadata": {},
     "output_type": "display_data"
    },
    {
     "name": "stdout",
     "output_type": "stream",
     "text": [
      "{'eval_loss': 0.47201746702194214, 'eval_runtime': 0.0578, 'eval_samples_per_second': 864.809, 'eval_steps_per_second': 34.592, 'epoch': 13.0}\n"
     ]
    },
    {
     "data": {
      "application/vnd.jupyter.widget-view+json": {
       "model_id": "d2df659479d5499083a983fb046685b6",
       "version_major": 2,
       "version_minor": 0
      },
      "text/plain": [
       "  0%|          | 0/2 [00:00<?, ?it/s]"
      ]
     },
     "metadata": {},
     "output_type": "display_data"
    },
    {
     "name": "stdout",
     "output_type": "stream",
     "text": [
      "{'eval_loss': 0.4153992533683777, 'eval_runtime': 0.066, 'eval_samples_per_second': 758.058, 'eval_steps_per_second': 30.322, 'epoch': 14.0}\n"
     ]
    },
    {
     "data": {
      "application/vnd.jupyter.widget-view+json": {
       "model_id": "ac7a89add9c646b7a42d3631afa2370c",
       "version_major": 2,
       "version_minor": 0
      },
      "text/plain": [
       "  0%|          | 0/2 [00:00<?, ?it/s]"
      ]
     },
     "metadata": {},
     "output_type": "display_data"
    },
    {
     "name": "stdout",
     "output_type": "stream",
     "text": [
      "{'eval_loss': 0.36647018790245056, 'eval_runtime': 0.0615, 'eval_samples_per_second': 813.474, 'eval_steps_per_second': 32.539, 'epoch': 15.0}\n"
     ]
    },
    {
     "data": {
      "application/vnd.jupyter.widget-view+json": {
       "model_id": "4ebb2d11f92644f29960dc534dfc5b3c",
       "version_major": 2,
       "version_minor": 0
      },
      "text/plain": [
       "  0%|          | 0/2 [00:00<?, ?it/s]"
      ]
     },
     "metadata": {},
     "output_type": "display_data"
    },
    {
     "name": "stdout",
     "output_type": "stream",
     "text": [
      "{'eval_loss': 0.39800748229026794, 'eval_runtime': 0.0613, 'eval_samples_per_second': 816.298, 'eval_steps_per_second': 32.652, 'epoch': 16.0}\n"
     ]
    },
    {
     "data": {
      "application/vnd.jupyter.widget-view+json": {
       "model_id": "a3dea08dbfaa45e78cccf7dd975560d9",
       "version_major": 2,
       "version_minor": 0
      },
      "text/plain": [
       "  0%|          | 0/2 [00:00<?, ?it/s]"
      ]
     },
     "metadata": {},
     "output_type": "display_data"
    },
    {
     "name": "stdout",
     "output_type": "stream",
     "text": [
      "{'eval_loss': 0.3834317922592163, 'eval_runtime': 0.0587, 'eval_samples_per_second': 851.525, 'eval_steps_per_second': 34.061, 'epoch': 17.0}\n"
     ]
    },
    {
     "data": {
      "application/vnd.jupyter.widget-view+json": {
       "model_id": "7e765fd1c7cb42709ccc52a5507c3804",
       "version_major": 2,
       "version_minor": 0
      },
      "text/plain": [
       "  0%|          | 0/2 [00:00<?, ?it/s]"
      ]
     },
     "metadata": {},
     "output_type": "display_data"
    },
    {
     "name": "stdout",
     "output_type": "stream",
     "text": [
      "{'eval_loss': 0.38343703746795654, 'eval_runtime': 0.0581, 'eval_samples_per_second': 861.123, 'eval_steps_per_second': 34.445, 'epoch': 18.0}\n"
     ]
    },
    {
     "data": {
      "application/vnd.jupyter.widget-view+json": {
       "model_id": "6c827c55e8144fa2bb0faf9fcfc6b80d",
       "version_major": 2,
       "version_minor": 0
      },
      "text/plain": [
       "  0%|          | 0/2 [00:00<?, ?it/s]"
      ]
     },
     "metadata": {},
     "output_type": "display_data"
    },
    {
     "name": "stdout",
     "output_type": "stream",
     "text": [
      "{'eval_loss': 0.39058613777160645, 'eval_runtime': 0.0585, 'eval_samples_per_second': 854.049, 'eval_steps_per_second': 34.162, 'epoch': 19.0}\n"
     ]
    },
    {
     "data": {
      "application/vnd.jupyter.widget-view+json": {
       "model_id": "02961ff37774419aafc050266d5c0607",
       "version_major": 2,
       "version_minor": 0
      },
      "text/plain": [
       "  0%|          | 0/2 [00:00<?, ?it/s]"
      ]
     },
     "metadata": {},
     "output_type": "display_data"
    },
    {
     "name": "stdout",
     "output_type": "stream",
     "text": [
      "{'eval_loss': 0.3942614793777466, 'eval_runtime': 0.0431, 'eval_samples_per_second': 1159.128, 'eval_steps_per_second': 46.365, 'epoch': 20.0}\n",
      "{'train_runtime': 35.4533, 'train_samples_per_second': 253.855, 'train_steps_per_second': 8.462, 'train_loss': 1.0752645874023437, 'epoch': 20.0}\n",
      "Training time for bert-base-uncased: 36.041279554367065 seconds\n",
      "****************************************************************************************************\n",
      "\n",
      "Training bert-base-multilingual-uncased\n"
     ]
    },
    {
     "name": "stderr",
     "output_type": "stream",
     "text": [
      "Some weights of BertForSequenceClassification were not initialized from the model checkpoint at bert-base-multilingual-uncased and are newly initialized: ['classifier.bias', 'classifier.weight']\n",
      "You should probably TRAIN this model on a down-stream task to be able to use it for predictions and inference.\n"
     ]
    },
    {
     "data": {
      "application/vnd.jupyter.widget-view+json": {
       "model_id": "50a4e252f3c94381a668611208b3f958",
       "version_major": 2,
       "version_minor": 0
      },
      "text/plain": [
       "  0%|          | 0/300 [00:00<?, ?it/s]"
      ]
     },
     "metadata": {},
     "output_type": "display_data"
    },
    {
     "data": {
      "application/vnd.jupyter.widget-view+json": {
       "model_id": "5bc0f7a964f4474cb5b544481869f640",
       "version_major": 2,
       "version_minor": 0
      },
      "text/plain": [
       "  0%|          | 0/2 [00:00<?, ?it/s]"
      ]
     },
     "metadata": {},
     "output_type": "display_data"
    },
    {
     "name": "stdout",
     "output_type": "stream",
     "text": [
      "{'eval_loss': 3.060262441635132, 'eval_runtime': 0.0643, 'eval_samples_per_second': 777.979, 'eval_steps_per_second': 31.119, 'epoch': 1.0}\n"
     ]
    },
    {
     "data": {
      "application/vnd.jupyter.widget-view+json": {
       "model_id": "9b896da1f5544ed286694261420d202a",
       "version_major": 2,
       "version_minor": 0
      },
      "text/plain": [
       "  0%|          | 0/2 [00:00<?, ?it/s]"
      ]
     },
     "metadata": {},
     "output_type": "display_data"
    },
    {
     "name": "stdout",
     "output_type": "stream",
     "text": [
      "{'eval_loss': 2.6407392024993896, 'eval_runtime': 0.0702, 'eval_samples_per_second': 712.094, 'eval_steps_per_second': 28.484, 'epoch': 2.0}\n"
     ]
    },
    {
     "data": {
      "application/vnd.jupyter.widget-view+json": {
       "model_id": "a4cffab115dd4eaaaa08517c5fc24f67",
       "version_major": 2,
       "version_minor": 0
      },
      "text/plain": [
       "  0%|          | 0/2 [00:00<?, ?it/s]"
      ]
     },
     "metadata": {},
     "output_type": "display_data"
    },
    {
     "name": "stdout",
     "output_type": "stream",
     "text": [
      "{'eval_loss': 2.1703665256500244, 'eval_runtime': 0.0662, 'eval_samples_per_second': 755.744, 'eval_steps_per_second': 30.23, 'epoch': 3.0}\n"
     ]
    },
    {
     "data": {
      "application/vnd.jupyter.widget-view+json": {
       "model_id": "267d1943dc2649cdbbd8938ea58edeba",
       "version_major": 2,
       "version_minor": 0
      },
      "text/plain": [
       "  0%|          | 0/2 [00:00<?, ?it/s]"
      ]
     },
     "metadata": {},
     "output_type": "display_data"
    },
    {
     "name": "stdout",
     "output_type": "stream",
     "text": [
      "{'eval_loss': 1.5639255046844482, 'eval_runtime': 0.0571, 'eval_samples_per_second': 875.177, 'eval_steps_per_second': 35.007, 'epoch': 4.0}\n"
     ]
    },
    {
     "data": {
      "application/vnd.jupyter.widget-view+json": {
       "model_id": "3bf8203b80bd4cd2a46546c385d52030",
       "version_major": 2,
       "version_minor": 0
      },
      "text/plain": [
       "  0%|          | 0/2 [00:00<?, ?it/s]"
      ]
     },
     "metadata": {},
     "output_type": "display_data"
    },
    {
     "name": "stdout",
     "output_type": "stream",
     "text": [
      "{'eval_loss': 1.0895352363586426, 'eval_runtime': 0.0663, 'eval_samples_per_second': 753.683, 'eval_steps_per_second': 30.147, 'epoch': 5.0}\n"
     ]
    },
    {
     "data": {
      "application/vnd.jupyter.widget-view+json": {
       "model_id": "fbc4b55560254f98ad05b5060eb5d689",
       "version_major": 2,
       "version_minor": 0
      },
      "text/plain": [
       "  0%|          | 0/2 [00:00<?, ?it/s]"
      ]
     },
     "metadata": {},
     "output_type": "display_data"
    },
    {
     "name": "stdout",
     "output_type": "stream",
     "text": [
      "{'eval_loss': 0.8129457831382751, 'eval_runtime': 0.0592, 'eval_samples_per_second': 844.591, 'eval_steps_per_second': 33.784, 'epoch': 6.0}\n"
     ]
    },
    {
     "data": {
      "application/vnd.jupyter.widget-view+json": {
       "model_id": "e3ea68186cd74db8a35692eeca15b27c",
       "version_major": 2,
       "version_minor": 0
      },
      "text/plain": [
       "  0%|          | 0/2 [00:00<?, ?it/s]"
      ]
     },
     "metadata": {},
     "output_type": "display_data"
    },
    {
     "name": "stdout",
     "output_type": "stream",
     "text": [
      "{'eval_loss': 0.684217631816864, 'eval_runtime': 0.0674, 'eval_samples_per_second': 742.336, 'eval_steps_per_second': 29.693, 'epoch': 7.0}\n"
     ]
    },
    {
     "data": {
      "application/vnd.jupyter.widget-view+json": {
       "model_id": "6c52ac1c30ae459e89df2d6f1528630c",
       "version_major": 2,
       "version_minor": 0
      },
      "text/plain": [
       "  0%|          | 0/2 [00:00<?, ?it/s]"
      ]
     },
     "metadata": {},
     "output_type": "display_data"
    },
    {
     "name": "stdout",
     "output_type": "stream",
     "text": [
      "{'eval_loss': 0.5988849401473999, 'eval_runtime': 0.0654, 'eval_samples_per_second': 764.352, 'eval_steps_per_second': 30.574, 'epoch': 8.0}\n"
     ]
    },
    {
     "data": {
      "application/vnd.jupyter.widget-view+json": {
       "model_id": "b50fb7bf2f5042ae9855f99720d44b39",
       "version_major": 2,
       "version_minor": 0
      },
      "text/plain": [
       "  0%|          | 0/2 [00:00<?, ?it/s]"
      ]
     },
     "metadata": {},
     "output_type": "display_data"
    },
    {
     "name": "stdout",
     "output_type": "stream",
     "text": [
      "{'eval_loss': 0.533599317073822, 'eval_runtime': 0.0586, 'eval_samples_per_second': 853.16, 'eval_steps_per_second': 34.126, 'epoch': 9.0}\n"
     ]
    },
    {
     "data": {
      "application/vnd.jupyter.widget-view+json": {
       "model_id": "6194045485d9463a8c243e7ebb24ff00",
       "version_major": 2,
       "version_minor": 0
      },
      "text/plain": [
       "  0%|          | 0/2 [00:00<?, ?it/s]"
      ]
     },
     "metadata": {},
     "output_type": "display_data"
    },
    {
     "name": "stdout",
     "output_type": "stream",
     "text": [
      "{'eval_loss': 0.4733303189277649, 'eval_runtime': 0.0574, 'eval_samples_per_second': 871.808, 'eval_steps_per_second': 34.872, 'epoch': 10.0}\n"
     ]
    },
    {
     "data": {
      "application/vnd.jupyter.widget-view+json": {
       "model_id": "7cb418208d034628bafb7c79d0d7a748",
       "version_major": 2,
       "version_minor": 0
      },
      "text/plain": [
       "  0%|          | 0/2 [00:00<?, ?it/s]"
      ]
     },
     "metadata": {},
     "output_type": "display_data"
    },
    {
     "name": "stdout",
     "output_type": "stream",
     "text": [
      "{'eval_loss': 0.44566184282302856, 'eval_runtime': 0.0649, 'eval_samples_per_second': 770.768, 'eval_steps_per_second': 30.831, 'epoch': 11.0}\n"
     ]
    },
    {
     "data": {
      "application/vnd.jupyter.widget-view+json": {
       "model_id": "754b84caed7f48248384585ac7917c03",
       "version_major": 2,
       "version_minor": 0
      },
      "text/plain": [
       "  0%|          | 0/2 [00:00<?, ?it/s]"
      ]
     },
     "metadata": {},
     "output_type": "display_data"
    },
    {
     "name": "stdout",
     "output_type": "stream",
     "text": [
      "{'eval_loss': 0.36999985575675964, 'eval_runtime': 0.0583, 'eval_samples_per_second': 856.977, 'eval_steps_per_second': 34.279, 'epoch': 12.0}\n"
     ]
    },
    {
     "data": {
      "application/vnd.jupyter.widget-view+json": {
       "model_id": "c3c68ca29a78403ca8f2033d8fbe0162",
       "version_major": 2,
       "version_minor": 0
      },
      "text/plain": [
       "  0%|          | 0/2 [00:00<?, ?it/s]"
      ]
     },
     "metadata": {},
     "output_type": "display_data"
    },
    {
     "name": "stdout",
     "output_type": "stream",
     "text": [
      "{'eval_loss': 0.3373372554779053, 'eval_runtime': 0.0693, 'eval_samples_per_second': 722.018, 'eval_steps_per_second': 28.881, 'epoch': 13.0}\n"
     ]
    },
    {
     "data": {
      "application/vnd.jupyter.widget-view+json": {
       "model_id": "2baec2607cd64030a58445d4ee834596",
       "version_major": 2,
       "version_minor": 0
      },
      "text/plain": [
       "  0%|          | 0/2 [00:00<?, ?it/s]"
      ]
     },
     "metadata": {},
     "output_type": "display_data"
    },
    {
     "name": "stdout",
     "output_type": "stream",
     "text": [
      "{'eval_loss': 0.3296751081943512, 'eval_runtime': 0.0644, 'eval_samples_per_second': 776.49, 'eval_steps_per_second': 31.06, 'epoch': 14.0}\n"
     ]
    },
    {
     "data": {
      "application/vnd.jupyter.widget-view+json": {
       "model_id": "e68c32a2199f42338466f3ca2f5ffe15",
       "version_major": 2,
       "version_minor": 0
      },
      "text/plain": [
       "  0%|          | 0/2 [00:00<?, ?it/s]"
      ]
     },
     "metadata": {},
     "output_type": "display_data"
    },
    {
     "name": "stdout",
     "output_type": "stream",
     "text": [
      "{'eval_loss': 0.2890188694000244, 'eval_runtime': 0.0594, 'eval_samples_per_second': 841.726, 'eval_steps_per_second': 33.669, 'epoch': 15.0}\n"
     ]
    },
    {
     "data": {
      "application/vnd.jupyter.widget-view+json": {
       "model_id": "c3f4dac5fef54afbad61646d7e3e2729",
       "version_major": 2,
       "version_minor": 0
      },
      "text/plain": [
       "  0%|          | 0/2 [00:00<?, ?it/s]"
      ]
     },
     "metadata": {},
     "output_type": "display_data"
    },
    {
     "name": "stdout",
     "output_type": "stream",
     "text": [
      "{'eval_loss': 0.24013803899288177, 'eval_runtime': 0.0697, 'eval_samples_per_second': 717.127, 'eval_steps_per_second': 28.685, 'epoch': 16.0}\n"
     ]
    },
    {
     "data": {
      "application/vnd.jupyter.widget-view+json": {
       "model_id": "3d7236e23bc34e0da6e3f9df0eb654d6",
       "version_major": 2,
       "version_minor": 0
      },
      "text/plain": [
       "  0%|          | 0/2 [00:00<?, ?it/s]"
      ]
     },
     "metadata": {},
     "output_type": "display_data"
    },
    {
     "name": "stdout",
     "output_type": "stream",
     "text": [
      "{'eval_loss': 0.19095295667648315, 'eval_runtime': 0.0598, 'eval_samples_per_second': 835.449, 'eval_steps_per_second': 33.418, 'epoch': 17.0}\n"
     ]
    },
    {
     "data": {
      "application/vnd.jupyter.widget-view+json": {
       "model_id": "7aa782395e704ae6ab6e05e5b9f13e87",
       "version_major": 2,
       "version_minor": 0
      },
      "text/plain": [
       "  0%|          | 0/2 [00:00<?, ?it/s]"
      ]
     },
     "metadata": {},
     "output_type": "display_data"
    },
    {
     "name": "stdout",
     "output_type": "stream",
     "text": [
      "{'eval_loss': 0.1761508733034134, 'eval_runtime': 0.07, 'eval_samples_per_second': 714.793, 'eval_steps_per_second': 28.592, 'epoch': 18.0}\n"
     ]
    },
    {
     "data": {
      "application/vnd.jupyter.widget-view+json": {
       "model_id": "dda037c3766e4892a71f38f47ede1576",
       "version_major": 2,
       "version_minor": 0
      },
      "text/plain": [
       "  0%|          | 0/2 [00:00<?, ?it/s]"
      ]
     },
     "metadata": {},
     "output_type": "display_data"
    },
    {
     "name": "stdout",
     "output_type": "stream",
     "text": [
      "{'eval_loss': 0.16545066237449646, 'eval_runtime': 0.0662, 'eval_samples_per_second': 755.733, 'eval_steps_per_second': 30.229, 'epoch': 19.0}\n"
     ]
    },
    {
     "data": {
      "application/vnd.jupyter.widget-view+json": {
       "model_id": "b64659d0350f44cc9b0378656feb3f4f",
       "version_major": 2,
       "version_minor": 0
      },
      "text/plain": [
       "  0%|          | 0/2 [00:00<?, ?it/s]"
      ]
     },
     "metadata": {},
     "output_type": "display_data"
    },
    {
     "name": "stdout",
     "output_type": "stream",
     "text": [
      "{'eval_loss': 0.16461433470249176, 'eval_runtime': 0.0759, 'eval_samples_per_second': 658.593, 'eval_steps_per_second': 26.344, 'epoch': 20.0}\n",
      "{'train_runtime': 30.6226, 'train_samples_per_second': 293.901, 'train_steps_per_second': 9.797, 'train_loss': 0.8260383097330729, 'epoch': 20.0}\n",
      "Training time for bert-base-multilingual-uncased: 30.75075912475586 seconds\n",
      "****************************************************************************************************\n",
      "\n",
      "Training albert/albert-base-v2\n"
     ]
    },
    {
     "name": "stderr",
     "output_type": "stream",
     "text": [
      "Some weights of AlbertForSequenceClassification were not initialized from the model checkpoint at albert/albert-base-v2 and are newly initialized: ['classifier.bias', 'classifier.weight']\n",
      "You should probably TRAIN this model on a down-stream task to be able to use it for predictions and inference.\n"
     ]
    },
    {
     "data": {
      "application/vnd.jupyter.widget-view+json": {
       "model_id": "c9311f28a3d54eef8ac349d04f902c37",
       "version_major": 2,
       "version_minor": 0
      },
      "text/plain": [
       "  0%|          | 0/300 [00:00<?, ?it/s]"
      ]
     },
     "metadata": {},
     "output_type": "display_data"
    },
    {
     "data": {
      "application/vnd.jupyter.widget-view+json": {
       "model_id": "294eb9bfafe146f39d452e736281e916",
       "version_major": 2,
       "version_minor": 0
      },
      "text/plain": [
       "  0%|          | 0/2 [00:00<?, ?it/s]"
      ]
     },
     "metadata": {},
     "output_type": "display_data"
    },
    {
     "name": "stdout",
     "output_type": "stream",
     "text": [
      "{'eval_loss': 3.2579281330108643, 'eval_runtime': 0.067, 'eval_samples_per_second': 745.999, 'eval_steps_per_second': 29.84, 'epoch': 1.0}\n"
     ]
    },
    {
     "data": {
      "application/vnd.jupyter.widget-view+json": {
       "model_id": "4477a81937f3417896580772a5f39cc6",
       "version_major": 2,
       "version_minor": 0
      },
      "text/plain": [
       "  0%|          | 0/2 [00:00<?, ?it/s]"
      ]
     },
     "metadata": {},
     "output_type": "display_data"
    },
    {
     "name": "stdout",
     "output_type": "stream",
     "text": [
      "{'eval_loss': 3.290515661239624, 'eval_runtime': 0.0578, 'eval_samples_per_second': 865.347, 'eval_steps_per_second': 34.614, 'epoch': 2.0}\n"
     ]
    },
    {
     "data": {
      "application/vnd.jupyter.widget-view+json": {
       "model_id": "b29a7f7c9564489190ed840a3441c72d",
       "version_major": 2,
       "version_minor": 0
      },
      "text/plain": [
       "  0%|          | 0/2 [00:00<?, ?it/s]"
      ]
     },
     "metadata": {},
     "output_type": "display_data"
    },
    {
     "name": "stdout",
     "output_type": "stream",
     "text": [
      "{'eval_loss': 3.0545578002929688, 'eval_runtime': 0.064, 'eval_samples_per_second': 781.01, 'eval_steps_per_second': 31.24, 'epoch': 3.0}\n"
     ]
    },
    {
     "data": {
      "application/vnd.jupyter.widget-view+json": {
       "model_id": "270d905d5ec04a8696e29b8240b96f45",
       "version_major": 2,
       "version_minor": 0
      },
      "text/plain": [
       "  0%|          | 0/2 [00:00<?, ?it/s]"
      ]
     },
     "metadata": {},
     "output_type": "display_data"
    },
    {
     "name": "stdout",
     "output_type": "stream",
     "text": [
      "{'eval_loss': 2.8690011501312256, 'eval_runtime': 0.0539, 'eval_samples_per_second': 926.84, 'eval_steps_per_second': 37.074, 'epoch': 4.0}\n"
     ]
    },
    {
     "data": {
      "application/vnd.jupyter.widget-view+json": {
       "model_id": "99d1dac6e39946b8aad62afdb4739fe1",
       "version_major": 2,
       "version_minor": 0
      },
      "text/plain": [
       "  0%|          | 0/2 [00:00<?, ?it/s]"
      ]
     },
     "metadata": {},
     "output_type": "display_data"
    },
    {
     "name": "stdout",
     "output_type": "stream",
     "text": [
      "{'eval_loss': 2.781682014465332, 'eval_runtime': 0.0647, 'eval_samples_per_second': 772.662, 'eval_steps_per_second': 30.906, 'epoch': 5.0}\n"
     ]
    },
    {
     "data": {
      "application/vnd.jupyter.widget-view+json": {
       "model_id": "2009121066874b258c542dcaac3fa78d",
       "version_major": 2,
       "version_minor": 0
      },
      "text/plain": [
       "  0%|          | 0/2 [00:00<?, ?it/s]"
      ]
     },
     "metadata": {},
     "output_type": "display_data"
    },
    {
     "name": "stdout",
     "output_type": "stream",
     "text": [
      "{'eval_loss': 2.5047993659973145, 'eval_runtime': 0.0532, 'eval_samples_per_second': 940.507, 'eval_steps_per_second': 37.62, 'epoch': 6.0}\n"
     ]
    },
    {
     "data": {
      "application/vnd.jupyter.widget-view+json": {
       "model_id": "7be8bedcd1954e03bc55163f0b2b925b",
       "version_major": 2,
       "version_minor": 0
      },
      "text/plain": [
       "  0%|          | 0/2 [00:00<?, ?it/s]"
      ]
     },
     "metadata": {},
     "output_type": "display_data"
    },
    {
     "name": "stdout",
     "output_type": "stream",
     "text": [
      "{'eval_loss': 2.3677496910095215, 'eval_runtime': 0.0593, 'eval_samples_per_second': 843.069, 'eval_steps_per_second': 33.723, 'epoch': 7.0}\n"
     ]
    },
    {
     "data": {
      "application/vnd.jupyter.widget-view+json": {
       "model_id": "a82a2cd91d954f9fa3cdac8e08e2f5af",
       "version_major": 2,
       "version_minor": 0
      },
      "text/plain": [
       "  0%|          | 0/2 [00:00<?, ?it/s]"
      ]
     },
     "metadata": {},
     "output_type": "display_data"
    },
    {
     "name": "stdout",
     "output_type": "stream",
     "text": [
      "{'eval_loss': 2.0051004886627197, 'eval_runtime': 0.0665, 'eval_samples_per_second': 752.174, 'eval_steps_per_second': 30.087, 'epoch': 8.0}\n"
     ]
    },
    {
     "data": {
      "application/vnd.jupyter.widget-view+json": {
       "model_id": "aadaefb25d6f454895660fb75ad8069f",
       "version_major": 2,
       "version_minor": 0
      },
      "text/plain": [
       "  0%|          | 0/2 [00:00<?, ?it/s]"
      ]
     },
     "metadata": {},
     "output_type": "display_data"
    },
    {
     "name": "stdout",
     "output_type": "stream",
     "text": [
      "{'eval_loss': 1.8341248035430908, 'eval_runtime': 0.0576, 'eval_samples_per_second': 868.044, 'eval_steps_per_second': 34.722, 'epoch': 9.0}\n"
     ]
    },
    {
     "data": {
      "application/vnd.jupyter.widget-view+json": {
       "model_id": "f37aa6ef21b0487fa351934a7f881ba1",
       "version_major": 2,
       "version_minor": 0
      },
      "text/plain": [
       "  0%|          | 0/2 [00:00<?, ?it/s]"
      ]
     },
     "metadata": {},
     "output_type": "display_data"
    },
    {
     "name": "stdout",
     "output_type": "stream",
     "text": [
      "{'eval_loss': 1.6513797044754028, 'eval_runtime': 0.0656, 'eval_samples_per_second': 762.307, 'eval_steps_per_second': 30.492, 'epoch': 10.0}\n"
     ]
    },
    {
     "data": {
      "application/vnd.jupyter.widget-view+json": {
       "model_id": "8665b4a266b54c789828e63fe65a12da",
       "version_major": 2,
       "version_minor": 0
      },
      "text/plain": [
       "  0%|          | 0/2 [00:00<?, ?it/s]"
      ]
     },
     "metadata": {},
     "output_type": "display_data"
    },
    {
     "name": "stdout",
     "output_type": "stream",
     "text": [
      "{'eval_loss': 1.5113754272460938, 'eval_runtime': 0.055, 'eval_samples_per_second': 909.228, 'eval_steps_per_second': 36.369, 'epoch': 11.0}\n"
     ]
    },
    {
     "data": {
      "application/vnd.jupyter.widget-view+json": {
       "model_id": "b73a5c65e01f492f92c3b5d0a683f48a",
       "version_major": 2,
       "version_minor": 0
      },
      "text/plain": [
       "  0%|          | 0/2 [00:00<?, ?it/s]"
      ]
     },
     "metadata": {},
     "output_type": "display_data"
    },
    {
     "name": "stdout",
     "output_type": "stream",
     "text": [
      "{'eval_loss': 1.3758184909820557, 'eval_runtime': 0.0617, 'eval_samples_per_second': 809.949, 'eval_steps_per_second': 32.398, 'epoch': 12.0}\n"
     ]
    },
    {
     "data": {
      "application/vnd.jupyter.widget-view+json": {
       "model_id": "b4d6e12eba7f4fca93e7e18391679d87",
       "version_major": 2,
       "version_minor": 0
      },
      "text/plain": [
       "  0%|          | 0/2 [00:00<?, ?it/s]"
      ]
     },
     "metadata": {},
     "output_type": "display_data"
    },
    {
     "name": "stdout",
     "output_type": "stream",
     "text": [
      "{'eval_loss': 1.293816328048706, 'eval_runtime': 0.0682, 'eval_samples_per_second': 732.811, 'eval_steps_per_second': 29.312, 'epoch': 13.0}\n"
     ]
    },
    {
     "data": {
      "application/vnd.jupyter.widget-view+json": {
       "model_id": "23a3a2b59fc74d01be53180a5dcbff42",
       "version_major": 2,
       "version_minor": 0
      },
      "text/plain": [
       "  0%|          | 0/2 [00:00<?, ?it/s]"
      ]
     },
     "metadata": {},
     "output_type": "display_data"
    },
    {
     "name": "stdout",
     "output_type": "stream",
     "text": [
      "{'eval_loss': 1.2077627182006836, 'eval_runtime': 0.0531, 'eval_samples_per_second': 941.943, 'eval_steps_per_second': 37.678, 'epoch': 14.0}\n"
     ]
    },
    {
     "data": {
      "application/vnd.jupyter.widget-view+json": {
       "model_id": "238480d1024f418294d67414d76b0a39",
       "version_major": 2,
       "version_minor": 0
      },
      "text/plain": [
       "  0%|          | 0/2 [00:00<?, ?it/s]"
      ]
     },
     "metadata": {},
     "output_type": "display_data"
    },
    {
     "name": "stdout",
     "output_type": "stream",
     "text": [
      "{'eval_loss': 1.0614415407180786, 'eval_runtime': 0.0547, 'eval_samples_per_second': 914.086, 'eval_steps_per_second': 36.563, 'epoch': 15.0}\n"
     ]
    },
    {
     "data": {
      "application/vnd.jupyter.widget-view+json": {
       "model_id": "1f9a1309f9c6421d80bc3abfd02c0f78",
       "version_major": 2,
       "version_minor": 0
      },
      "text/plain": [
       "  0%|          | 0/2 [00:00<?, ?it/s]"
      ]
     },
     "metadata": {},
     "output_type": "display_data"
    },
    {
     "name": "stdout",
     "output_type": "stream",
     "text": [
      "{'eval_loss': 1.0455138683319092, 'eval_runtime': 0.0618, 'eval_samples_per_second': 809.118, 'eval_steps_per_second': 32.365, 'epoch': 16.0}\n"
     ]
    },
    {
     "data": {
      "application/vnd.jupyter.widget-view+json": {
       "model_id": "b81437e7b7734c7a92302992ba4c16bf",
       "version_major": 2,
       "version_minor": 0
      },
      "text/plain": [
       "  0%|          | 0/2 [00:00<?, ?it/s]"
      ]
     },
     "metadata": {},
     "output_type": "display_data"
    },
    {
     "name": "stdout",
     "output_type": "stream",
     "text": [
      "{'eval_loss': 0.9694881439208984, 'eval_runtime': 0.0559, 'eval_samples_per_second': 893.74, 'eval_steps_per_second': 35.75, 'epoch': 17.0}\n"
     ]
    },
    {
     "data": {
      "application/vnd.jupyter.widget-view+json": {
       "model_id": "5f818d2efd4d4cb2b067816f2257bcc5",
       "version_major": 2,
       "version_minor": 0
      },
      "text/plain": [
       "  0%|          | 0/2 [00:00<?, ?it/s]"
      ]
     },
     "metadata": {},
     "output_type": "display_data"
    },
    {
     "name": "stdout",
     "output_type": "stream",
     "text": [
      "{'eval_loss': 0.9114673137664795, 'eval_runtime': 0.064, 'eval_samples_per_second': 781.208, 'eval_steps_per_second': 31.248, 'epoch': 18.0}\n"
     ]
    },
    {
     "data": {
      "application/vnd.jupyter.widget-view+json": {
       "model_id": "eced73ef8c694d0d8db2a56e51809815",
       "version_major": 2,
       "version_minor": 0
      },
      "text/plain": [
       "  0%|          | 0/2 [00:00<?, ?it/s]"
      ]
     },
     "metadata": {},
     "output_type": "display_data"
    },
    {
     "name": "stdout",
     "output_type": "stream",
     "text": [
      "{'eval_loss': 0.8939911127090454, 'eval_runtime': 0.0562, 'eval_samples_per_second': 890.2, 'eval_steps_per_second': 35.608, 'epoch': 19.0}\n"
     ]
    },
    {
     "data": {
      "application/vnd.jupyter.widget-view+json": {
       "model_id": "ec519bab1196420cbd3f09e613bc38b6",
       "version_major": 2,
       "version_minor": 0
      },
      "text/plain": [
       "  0%|          | 0/2 [00:00<?, ?it/s]"
      ]
     },
     "metadata": {},
     "output_type": "display_data"
    },
    {
     "name": "stdout",
     "output_type": "stream",
     "text": [
      "{'eval_loss': 0.8598687052726746, 'eval_runtime': 0.0572, 'eval_samples_per_second': 874.01, 'eval_steps_per_second': 34.96, 'epoch': 20.0}\n",
      "{'train_runtime': 35.2597, 'train_samples_per_second': 255.249, 'train_steps_per_second': 8.508, 'train_loss': 1.6325562540690104, 'epoch': 20.0}\n",
      "Training time for albert-base-v2: 35.40125226974487 seconds\n",
      "****************************************************************************************************\n",
      "\n",
      "Training distilbert-base-uncased\n"
     ]
    },
    {
     "name": "stderr",
     "output_type": "stream",
     "text": [
      "Some weights of DistilBertForSequenceClassification were not initialized from the model checkpoint at distilbert-base-uncased and are newly initialized: ['classifier.bias', 'classifier.weight', 'pre_classifier.bias', 'pre_classifier.weight']\n",
      "You should probably TRAIN this model on a down-stream task to be able to use it for predictions and inference.\n"
     ]
    },
    {
     "data": {
      "application/vnd.jupyter.widget-view+json": {
       "model_id": "a44e0861329c4e989bf9233ffb4d29dc",
       "version_major": 2,
       "version_minor": 0
      },
      "text/plain": [
       "  0%|          | 0/300 [00:00<?, ?it/s]"
      ]
     },
     "metadata": {},
     "output_type": "display_data"
    },
    {
     "data": {
      "application/vnd.jupyter.widget-view+json": {
       "model_id": "85fbe1faec6846bfb89009dedde99254",
       "version_major": 2,
       "version_minor": 0
      },
      "text/plain": [
       "  0%|          | 0/2 [00:00<?, ?it/s]"
      ]
     },
     "metadata": {},
     "output_type": "display_data"
    },
    {
     "name": "stdout",
     "output_type": "stream",
     "text": [
      "{'eval_loss': 3.1034369468688965, 'eval_runtime': 0.0425, 'eval_samples_per_second': 1177.177, 'eval_steps_per_second': 47.087, 'epoch': 1.0}\n"
     ]
    },
    {
     "data": {
      "application/vnd.jupyter.widget-view+json": {
       "model_id": "39a397bf63ec4763af152a9271f41db9",
       "version_major": 2,
       "version_minor": 0
      },
      "text/plain": [
       "  0%|          | 0/2 [00:00<?, ?it/s]"
      ]
     },
     "metadata": {},
     "output_type": "display_data"
    },
    {
     "name": "stdout",
     "output_type": "stream",
     "text": [
      "{'eval_loss': 2.6831326484680176, 'eval_runtime': 0.0391, 'eval_samples_per_second': 1277.17, 'eval_steps_per_second': 51.087, 'epoch': 2.0}\n"
     ]
    },
    {
     "data": {
      "application/vnd.jupyter.widget-view+json": {
       "model_id": "e05f0340c9704dc796f8f9ddbb7d8d9c",
       "version_major": 2,
       "version_minor": 0
      },
      "text/plain": [
       "  0%|          | 0/2 [00:00<?, ?it/s]"
      ]
     },
     "metadata": {},
     "output_type": "display_data"
    },
    {
     "name": "stdout",
     "output_type": "stream",
     "text": [
      "{'eval_loss': 2.2649474143981934, 'eval_runtime': 0.0386, 'eval_samples_per_second': 1295.762, 'eval_steps_per_second': 51.83, 'epoch': 3.0}\n"
     ]
    },
    {
     "data": {
      "application/vnd.jupyter.widget-view+json": {
       "model_id": "bbe2323b06834485b9924b2c10fcee2b",
       "version_major": 2,
       "version_minor": 0
      },
      "text/plain": [
       "  0%|          | 0/2 [00:00<?, ?it/s]"
      ]
     },
     "metadata": {},
     "output_type": "display_data"
    },
    {
     "name": "stdout",
     "output_type": "stream",
     "text": [
      "{'eval_loss': 1.8944324254989624, 'eval_runtime': 0.0367, 'eval_samples_per_second': 1360.656, 'eval_steps_per_second': 54.426, 'epoch': 4.0}\n"
     ]
    },
    {
     "data": {
      "application/vnd.jupyter.widget-view+json": {
       "model_id": "b204b7d0420a4d1bab376ee70aebadf3",
       "version_major": 2,
       "version_minor": 0
      },
      "text/plain": [
       "  0%|          | 0/2 [00:00<?, ?it/s]"
      ]
     },
     "metadata": {},
     "output_type": "display_data"
    },
    {
     "name": "stdout",
     "output_type": "stream",
     "text": [
      "{'eval_loss': 1.6166726350784302, 'eval_runtime': 0.0331, 'eval_samples_per_second': 1510.253, 'eval_steps_per_second': 60.41, 'epoch': 5.0}\n"
     ]
    },
    {
     "data": {
      "application/vnd.jupyter.widget-view+json": {
       "model_id": "9c18490ebbd24e9084301da42d4cd6e7",
       "version_major": 2,
       "version_minor": 0
      },
      "text/plain": [
       "  0%|          | 0/2 [00:00<?, ?it/s]"
      ]
     },
     "metadata": {},
     "output_type": "display_data"
    },
    {
     "name": "stdout",
     "output_type": "stream",
     "text": [
      "{'eval_loss': 1.2999709844589233, 'eval_runtime': 0.0466, 'eval_samples_per_second': 1071.95, 'eval_steps_per_second': 42.878, 'epoch': 6.0}\n"
     ]
    },
    {
     "data": {
      "application/vnd.jupyter.widget-view+json": {
       "model_id": "f3046e96a7d64795a9318029e1186d4a",
       "version_major": 2,
       "version_minor": 0
      },
      "text/plain": [
       "  0%|          | 0/2 [00:00<?, ?it/s]"
      ]
     },
     "metadata": {},
     "output_type": "display_data"
    },
    {
     "name": "stdout",
     "output_type": "stream",
     "text": [
      "{'eval_loss': 1.0954279899597168, 'eval_runtime': 0.0316, 'eval_samples_per_second': 1580.371, 'eval_steps_per_second': 63.215, 'epoch': 7.0}\n"
     ]
    },
    {
     "data": {
      "application/vnd.jupyter.widget-view+json": {
       "model_id": "3a3af5cc5fd84e739234726df4fb1d1a",
       "version_major": 2,
       "version_minor": 0
      },
      "text/plain": [
       "  0%|          | 0/2 [00:00<?, ?it/s]"
      ]
     },
     "metadata": {},
     "output_type": "display_data"
    },
    {
     "name": "stdout",
     "output_type": "stream",
     "text": [
      "{'eval_loss': 0.8880311846733093, 'eval_runtime': 0.0339, 'eval_samples_per_second': 1476.576, 'eval_steps_per_second': 59.063, 'epoch': 8.0}\n"
     ]
    },
    {
     "data": {
      "application/vnd.jupyter.widget-view+json": {
       "model_id": "720aed906fd44d0fa11deb08706fbc3d",
       "version_major": 2,
       "version_minor": 0
      },
      "text/plain": [
       "  0%|          | 0/2 [00:00<?, ?it/s]"
      ]
     },
     "metadata": {},
     "output_type": "display_data"
    },
    {
     "name": "stdout",
     "output_type": "stream",
     "text": [
      "{'eval_loss': 0.7102583050727844, 'eval_runtime': 0.0456, 'eval_samples_per_second': 1096.126, 'eval_steps_per_second': 43.845, 'epoch': 9.0}\n"
     ]
    },
    {
     "data": {
      "application/vnd.jupyter.widget-view+json": {
       "model_id": "04479ac4de66489eb11cff9805126b96",
       "version_major": 2,
       "version_minor": 0
      },
      "text/plain": [
       "  0%|          | 0/2 [00:00<?, ?it/s]"
      ]
     },
     "metadata": {},
     "output_type": "display_data"
    },
    {
     "name": "stdout",
     "output_type": "stream",
     "text": [
      "{'eval_loss': 0.5737379193305969, 'eval_runtime': 0.0451, 'eval_samples_per_second': 1109.34, 'eval_steps_per_second': 44.374, 'epoch': 10.0}\n"
     ]
    },
    {
     "data": {
      "application/vnd.jupyter.widget-view+json": {
       "model_id": "050cb49d187c44d5a533d675f3ad5557",
       "version_major": 2,
       "version_minor": 0
      },
      "text/plain": [
       "  0%|          | 0/2 [00:00<?, ?it/s]"
      ]
     },
     "metadata": {},
     "output_type": "display_data"
    },
    {
     "name": "stdout",
     "output_type": "stream",
     "text": [
      "{'eval_loss': 0.47253844141960144, 'eval_runtime': 0.044, 'eval_samples_per_second': 1136.988, 'eval_steps_per_second': 45.48, 'epoch': 11.0}\n"
     ]
    },
    {
     "data": {
      "application/vnd.jupyter.widget-view+json": {
       "model_id": "c647146c7c584e6cbf80ede656115424",
       "version_major": 2,
       "version_minor": 0
      },
      "text/plain": [
       "  0%|          | 0/2 [00:00<?, ?it/s]"
      ]
     },
     "metadata": {},
     "output_type": "display_data"
    },
    {
     "name": "stdout",
     "output_type": "stream",
     "text": [
      "{'eval_loss': 0.40378913283348083, 'eval_runtime': 0.0443, 'eval_samples_per_second': 1128.958, 'eval_steps_per_second': 45.158, 'epoch': 12.0}\n"
     ]
    },
    {
     "data": {
      "application/vnd.jupyter.widget-view+json": {
       "model_id": "c861aea0537946b4a7881e5fc5f150d4",
       "version_major": 2,
       "version_minor": 0
      },
      "text/plain": [
       "  0%|          | 0/2 [00:00<?, ?it/s]"
      ]
     },
     "metadata": {},
     "output_type": "display_data"
    },
    {
     "name": "stdout",
     "output_type": "stream",
     "text": [
      "{'eval_loss': 0.3341749608516693, 'eval_runtime': 0.0407, 'eval_samples_per_second': 1227.79, 'eval_steps_per_second': 49.112, 'epoch': 13.0}\n"
     ]
    },
    {
     "data": {
      "application/vnd.jupyter.widget-view+json": {
       "model_id": "42eb0084ea164f0da736c3cbde2ed5f4",
       "version_major": 2,
       "version_minor": 0
      },
      "text/plain": [
       "  0%|          | 0/2 [00:00<?, ?it/s]"
      ]
     },
     "metadata": {},
     "output_type": "display_data"
    },
    {
     "name": "stdout",
     "output_type": "stream",
     "text": [
      "{'eval_loss': 0.320142924785614, 'eval_runtime': 0.033, 'eval_samples_per_second': 1516.247, 'eval_steps_per_second': 60.65, 'epoch': 14.0}\n"
     ]
    },
    {
     "data": {
      "application/vnd.jupyter.widget-view+json": {
       "model_id": "7820cc240b5943108cd074300ff02ec1",
       "version_major": 2,
       "version_minor": 0
      },
      "text/plain": [
       "  0%|          | 0/2 [00:00<?, ?it/s]"
      ]
     },
     "metadata": {},
     "output_type": "display_data"
    },
    {
     "name": "stdout",
     "output_type": "stream",
     "text": [
      "{'eval_loss': 0.26075711846351624, 'eval_runtime': 0.0333, 'eval_samples_per_second': 1499.605, 'eval_steps_per_second': 59.984, 'epoch': 15.0}\n"
     ]
    },
    {
     "data": {
      "application/vnd.jupyter.widget-view+json": {
       "model_id": "707cf189445843ff9203f9446fe9c8f5",
       "version_major": 2,
       "version_minor": 0
      },
      "text/plain": [
       "  0%|          | 0/2 [00:00<?, ?it/s]"
      ]
     },
     "metadata": {},
     "output_type": "display_data"
    },
    {
     "name": "stdout",
     "output_type": "stream",
     "text": [
      "{'eval_loss': 0.2690044641494751, 'eval_runtime': 0.035, 'eval_samples_per_second': 1427.129, 'eval_steps_per_second': 57.085, 'epoch': 16.0}\n"
     ]
    },
    {
     "data": {
      "application/vnd.jupyter.widget-view+json": {
       "model_id": "2a0fa4b2f7544e1ea37ac2f0a06094ed",
       "version_major": 2,
       "version_minor": 0
      },
      "text/plain": [
       "  0%|          | 0/2 [00:00<?, ?it/s]"
      ]
     },
     "metadata": {},
     "output_type": "display_data"
    },
    {
     "name": "stdout",
     "output_type": "stream",
     "text": [
      "{'eval_loss': 0.2483348846435547, 'eval_runtime': 0.0324, 'eval_samples_per_second': 1541.615, 'eval_steps_per_second': 61.665, 'epoch': 17.0}\n"
     ]
    },
    {
     "data": {
      "application/vnd.jupyter.widget-view+json": {
       "model_id": "ad1802149b054b9fbd8dc522fe963923",
       "version_major": 2,
       "version_minor": 0
      },
      "text/plain": [
       "  0%|          | 0/2 [00:00<?, ?it/s]"
      ]
     },
     "metadata": {},
     "output_type": "display_data"
    },
    {
     "name": "stdout",
     "output_type": "stream",
     "text": [
      "{'eval_loss': 0.23040463030338287, 'eval_runtime': 0.0467, 'eval_samples_per_second': 1070.691, 'eval_steps_per_second': 42.828, 'epoch': 18.0}\n"
     ]
    },
    {
     "data": {
      "application/vnd.jupyter.widget-view+json": {
       "model_id": "afc79d19d656495cab3e488cd4a81ce4",
       "version_major": 2,
       "version_minor": 0
      },
      "text/plain": [
       "  0%|          | 0/2 [00:00<?, ?it/s]"
      ]
     },
     "metadata": {},
     "output_type": "display_data"
    },
    {
     "name": "stdout",
     "output_type": "stream",
     "text": [
      "{'eval_loss': 0.2214871048927307, 'eval_runtime': 0.0326, 'eval_samples_per_second': 1534.925, 'eval_steps_per_second': 61.397, 'epoch': 19.0}\n"
     ]
    },
    {
     "data": {
      "application/vnd.jupyter.widget-view+json": {
       "model_id": "410fd723772d48af8d459a3e5539291e",
       "version_major": 2,
       "version_minor": 0
      },
      "text/plain": [
       "  0%|          | 0/2 [00:00<?, ?it/s]"
      ]
     },
     "metadata": {},
     "output_type": "display_data"
    },
    {
     "name": "stdout",
     "output_type": "stream",
     "text": [
      "{'eval_loss': 0.22025078535079956, 'eval_runtime': 0.0299, 'eval_samples_per_second': 1673.518, 'eval_steps_per_second': 66.941, 'epoch': 20.0}\n",
      "{'train_runtime': 19.5546, 'train_samples_per_second': 460.249, 'train_steps_per_second': 15.342, 'train_loss': 0.9723445638020833, 'epoch': 20.0}\n",
      "Training time for distilbert-base-uncased: 19.67264485359192 seconds\n",
      "****************************************************************************************************\n",
      "\n",
      "Training google/mobilebert-uncased\n"
     ]
    },
    {
     "name": "stderr",
     "output_type": "stream",
     "text": [
      "Some weights of MobileBertForSequenceClassification were not initialized from the model checkpoint at google/mobilebert-uncased and are newly initialized: ['classifier.bias', 'classifier.weight']\n",
      "You should probably TRAIN this model on a down-stream task to be able to use it for predictions and inference.\n",
      "Asking to truncate to max_length but no maximum length is provided and the model has no predefined maximum length. Default to no truncation.\n"
     ]
    },
    {
     "data": {
      "application/vnd.jupyter.widget-view+json": {
       "model_id": "f4f7c3b2019247a4813d801427627e5a",
       "version_major": 2,
       "version_minor": 0
      },
      "text/plain": [
       "  0%|          | 0/300 [00:00<?, ?it/s]"
      ]
     },
     "metadata": {},
     "output_type": "display_data"
    },
    {
     "data": {
      "application/vnd.jupyter.widget-view+json": {
       "model_id": "d8c39f868fc04079bf22fca71c4ebb46",
       "version_major": 2,
       "version_minor": 0
      },
      "text/plain": [
       "  0%|          | 0/2 [00:00<?, ?it/s]"
      ]
     },
     "metadata": {},
     "output_type": "display_data"
    },
    {
     "name": "stdout",
     "output_type": "stream",
     "text": [
      "{'eval_loss': 4.929247856140137, 'eval_runtime': 0.0881, 'eval_samples_per_second': 567.328, 'eval_steps_per_second': 22.693, 'epoch': 1.0}\n"
     ]
    },
    {
     "data": {
      "application/vnd.jupyter.widget-view+json": {
       "model_id": "57fc5fae7327455e9e8f615f15f1bdd5",
       "version_major": 2,
       "version_minor": 0
      },
      "text/plain": [
       "  0%|          | 0/2 [00:00<?, ?it/s]"
      ]
     },
     "metadata": {},
     "output_type": "display_data"
    },
    {
     "name": "stdout",
     "output_type": "stream",
     "text": [
      "{'eval_loss': 3.2494802474975586, 'eval_runtime': 0.0973, 'eval_samples_per_second': 514.087, 'eval_steps_per_second': 20.563, 'epoch': 2.0}\n"
     ]
    },
    {
     "data": {
      "application/vnd.jupyter.widget-view+json": {
       "model_id": "060e5011f2684844b2509587374d23a2",
       "version_major": 2,
       "version_minor": 0
      },
      "text/plain": [
       "  0%|          | 0/2 [00:00<?, ?it/s]"
      ]
     },
     "metadata": {},
     "output_type": "display_data"
    },
    {
     "name": "stdout",
     "output_type": "stream",
     "text": [
      "{'eval_loss': 2.643003463745117, 'eval_runtime': 0.0875, 'eval_samples_per_second': 571.727, 'eval_steps_per_second': 22.869, 'epoch': 3.0}\n"
     ]
    },
    {
     "data": {
      "application/vnd.jupyter.widget-view+json": {
       "model_id": "24c3b60fea3548a88ef9d3378e186b86",
       "version_major": 2,
       "version_minor": 0
      },
      "text/plain": [
       "  0%|          | 0/2 [00:00<?, ?it/s]"
      ]
     },
     "metadata": {},
     "output_type": "display_data"
    },
    {
     "name": "stdout",
     "output_type": "stream",
     "text": [
      "{'eval_loss': 2.046945095062256, 'eval_runtime': 0.0925, 'eval_samples_per_second': 540.311, 'eval_steps_per_second': 21.612, 'epoch': 4.0}\n"
     ]
    },
    {
     "data": {
      "application/vnd.jupyter.widget-view+json": {
       "model_id": "659ef31158e54801adbd62e07f107155",
       "version_major": 2,
       "version_minor": 0
      },
      "text/plain": [
       "  0%|          | 0/2 [00:00<?, ?it/s]"
      ]
     },
     "metadata": {},
     "output_type": "display_data"
    },
    {
     "name": "stdout",
     "output_type": "stream",
     "text": [
      "{'eval_loss': 1.179095983505249, 'eval_runtime': 0.086, 'eval_samples_per_second': 581.093, 'eval_steps_per_second': 23.244, 'epoch': 5.0}\n"
     ]
    },
    {
     "data": {
      "application/vnd.jupyter.widget-view+json": {
       "model_id": "de0bdcdea79a4be28d8b83e708cea7e6",
       "version_major": 2,
       "version_minor": 0
      },
      "text/plain": [
       "  0%|          | 0/2 [00:00<?, ?it/s]"
      ]
     },
     "metadata": {},
     "output_type": "display_data"
    },
    {
     "name": "stdout",
     "output_type": "stream",
     "text": [
      "{'eval_loss': 0.7552564740180969, 'eval_runtime': 0.0924, 'eval_samples_per_second': 541.332, 'eval_steps_per_second': 21.653, 'epoch': 6.0}\n"
     ]
    },
    {
     "data": {
      "application/vnd.jupyter.widget-view+json": {
       "model_id": "c966034a427f4d2586a317f1b3a088e9",
       "version_major": 2,
       "version_minor": 0
      },
      "text/plain": [
       "  0%|          | 0/2 [00:00<?, ?it/s]"
      ]
     },
     "metadata": {},
     "output_type": "display_data"
    },
    {
     "name": "stdout",
     "output_type": "stream",
     "text": [
      "{'eval_loss': 0.5723366737365723, 'eval_runtime': 0.1002, 'eval_samples_per_second': 499.025, 'eval_steps_per_second': 19.961, 'epoch': 7.0}\n"
     ]
    },
    {
     "data": {
      "application/vnd.jupyter.widget-view+json": {
       "model_id": "84b257a4bc61416ba0cae76df33ea5f5",
       "version_major": 2,
       "version_minor": 0
      },
      "text/plain": [
       "  0%|          | 0/2 [00:00<?, ?it/s]"
      ]
     },
     "metadata": {},
     "output_type": "display_data"
    },
    {
     "name": "stdout",
     "output_type": "stream",
     "text": [
      "{'eval_loss': 0.5987165570259094, 'eval_runtime': 0.0922, 'eval_samples_per_second': 542.038, 'eval_steps_per_second': 21.682, 'epoch': 8.0}\n"
     ]
    },
    {
     "data": {
      "application/vnd.jupyter.widget-view+json": {
       "model_id": "3139e194b55841bbb36bbd42cc319bc1",
       "version_major": 2,
       "version_minor": 0
      },
      "text/plain": [
       "  0%|          | 0/2 [00:00<?, ?it/s]"
      ]
     },
     "metadata": {},
     "output_type": "display_data"
    },
    {
     "name": "stdout",
     "output_type": "stream",
     "text": [
      "{'eval_loss': 0.2195868343114853, 'eval_runtime': 0.0928, 'eval_samples_per_second': 539.046, 'eval_steps_per_second': 21.562, 'epoch': 9.0}\n"
     ]
    },
    {
     "data": {
      "application/vnd.jupyter.widget-view+json": {
       "model_id": "5ae8af566cb045b68353c62b436e8201",
       "version_major": 2,
       "version_minor": 0
      },
      "text/plain": [
       "  0%|          | 0/2 [00:00<?, ?it/s]"
      ]
     },
     "metadata": {},
     "output_type": "display_data"
    },
    {
     "name": "stdout",
     "output_type": "stream",
     "text": [
      "{'eval_loss': 0.40241119265556335, 'eval_runtime': 0.0862, 'eval_samples_per_second': 579.751, 'eval_steps_per_second': 23.19, 'epoch': 10.0}\n"
     ]
    },
    {
     "data": {
      "application/vnd.jupyter.widget-view+json": {
       "model_id": "7454f3774c8a433f93c360fdb937fc33",
       "version_major": 2,
       "version_minor": 0
      },
      "text/plain": [
       "  0%|          | 0/2 [00:00<?, ?it/s]"
      ]
     },
     "metadata": {},
     "output_type": "display_data"
    },
    {
     "name": "stdout",
     "output_type": "stream",
     "text": [
      "{'eval_loss': 0.1938096284866333, 'eval_runtime': 0.1069, 'eval_samples_per_second': 467.59, 'eval_steps_per_second': 18.704, 'epoch': 11.0}\n"
     ]
    },
    {
     "data": {
      "application/vnd.jupyter.widget-view+json": {
       "model_id": "b58aedfd6ea84a5d92e7c5d5ad64020c",
       "version_major": 2,
       "version_minor": 0
      },
      "text/plain": [
       "  0%|          | 0/2 [00:00<?, ?it/s]"
      ]
     },
     "metadata": {},
     "output_type": "display_data"
    },
    {
     "name": "stdout",
     "output_type": "stream",
     "text": [
      "{'eval_loss': 0.3346230387687683, 'eval_runtime': 0.0994, 'eval_samples_per_second': 502.826, 'eval_steps_per_second': 20.113, 'epoch': 12.0}\n"
     ]
    },
    {
     "data": {
      "application/vnd.jupyter.widget-view+json": {
       "model_id": "d9ac11dab88d4c8e855ff751577b19a5",
       "version_major": 2,
       "version_minor": 0
      },
      "text/plain": [
       "  0%|          | 0/2 [00:00<?, ?it/s]"
      ]
     },
     "metadata": {},
     "output_type": "display_data"
    },
    {
     "name": "stdout",
     "output_type": "stream",
     "text": [
      "{'eval_loss': 0.4057622253894806, 'eval_runtime': 0.0927, 'eval_samples_per_second': 539.598, 'eval_steps_per_second': 21.584, 'epoch': 13.0}\n"
     ]
    },
    {
     "data": {
      "application/vnd.jupyter.widget-view+json": {
       "model_id": "94cddaf2661c4aa9a5dffe310cbbebd1",
       "version_major": 2,
       "version_minor": 0
      },
      "text/plain": [
       "  0%|          | 0/2 [00:00<?, ?it/s]"
      ]
     },
     "metadata": {},
     "output_type": "display_data"
    },
    {
     "name": "stdout",
     "output_type": "stream",
     "text": [
      "{'eval_loss': 0.3527800440788269, 'eval_runtime': 0.0994, 'eval_samples_per_second': 503.002, 'eval_steps_per_second': 20.12, 'epoch': 14.0}\n"
     ]
    },
    {
     "data": {
      "application/vnd.jupyter.widget-view+json": {
       "model_id": "830e6e0930124a7b92349a68d7c03e4e",
       "version_major": 2,
       "version_minor": 0
      },
      "text/plain": [
       "  0%|          | 0/2 [00:00<?, ?it/s]"
      ]
     },
     "metadata": {},
     "output_type": "display_data"
    },
    {
     "name": "stdout",
     "output_type": "stream",
     "text": [
      "{'eval_loss': 0.5080309510231018, 'eval_runtime': 0.085, 'eval_samples_per_second': 588.359, 'eval_steps_per_second': 23.534, 'epoch': 15.0}\n"
     ]
    },
    {
     "data": {
      "application/vnd.jupyter.widget-view+json": {
       "model_id": "a11a872a257849f29f6eb7cd57726c61",
       "version_major": 2,
       "version_minor": 0
      },
      "text/plain": [
       "  0%|          | 0/2 [00:00<?, ?it/s]"
      ]
     },
     "metadata": {},
     "output_type": "display_data"
    },
    {
     "name": "stdout",
     "output_type": "stream",
     "text": [
      "{'eval_loss': 0.2958228290081024, 'eval_runtime': 0.0968, 'eval_samples_per_second': 516.484, 'eval_steps_per_second': 20.659, 'epoch': 16.0}\n"
     ]
    },
    {
     "data": {
      "application/vnd.jupyter.widget-view+json": {
       "model_id": "363ff5591e7a4ff287ba47db17fdcd58",
       "version_major": 2,
       "version_minor": 0
      },
      "text/plain": [
       "  0%|          | 0/2 [00:00<?, ?it/s]"
      ]
     },
     "metadata": {},
     "output_type": "display_data"
    },
    {
     "name": "stdout",
     "output_type": "stream",
     "text": [
      "{'eval_loss': 0.411457359790802, 'eval_runtime': 0.096, 'eval_samples_per_second': 520.795, 'eval_steps_per_second': 20.832, 'epoch': 17.0}\n"
     ]
    },
    {
     "data": {
      "application/vnd.jupyter.widget-view+json": {
       "model_id": "323020c9014a468a915cd131fbf2d360",
       "version_major": 2,
       "version_minor": 0
      },
      "text/plain": [
       "  0%|          | 0/2 [00:00<?, ?it/s]"
      ]
     },
     "metadata": {},
     "output_type": "display_data"
    },
    {
     "name": "stdout",
     "output_type": "stream",
     "text": [
      "{'eval_loss': 0.18016472458839417, 'eval_runtime': 0.086, 'eval_samples_per_second': 581.415, 'eval_steps_per_second': 23.257, 'epoch': 18.0}\n"
     ]
    },
    {
     "data": {
      "application/vnd.jupyter.widget-view+json": {
       "model_id": "d2d6f0df99884c4a907a00e2a23a5567",
       "version_major": 2,
       "version_minor": 0
      },
      "text/plain": [
       "  0%|          | 0/2 [00:00<?, ?it/s]"
      ]
     },
     "metadata": {},
     "output_type": "display_data"
    },
    {
     "name": "stdout",
     "output_type": "stream",
     "text": [
      "{'eval_loss': 0.14836856722831726, 'eval_runtime': 0.0923, 'eval_samples_per_second': 541.968, 'eval_steps_per_second': 21.679, 'epoch': 19.0}\n"
     ]
    },
    {
     "data": {
      "application/vnd.jupyter.widget-view+json": {
       "model_id": "88f099f5a14b4ac49675c9d731130213",
       "version_major": 2,
       "version_minor": 0
      },
      "text/plain": [
       "  0%|          | 0/2 [00:00<?, ?it/s]"
      ]
     },
     "metadata": {},
     "output_type": "display_data"
    },
    {
     "name": "stdout",
     "output_type": "stream",
     "text": [
      "{'eval_loss': 0.15663351118564606, 'eval_runtime': 0.0909, 'eval_samples_per_second': 549.928, 'eval_steps_per_second': 21.997, 'epoch': 20.0}\n",
      "{'train_runtime': 46.8683, 'train_samples_per_second': 192.027, 'train_steps_per_second': 6.401, 'train_loss': 227350.32, 'epoch': 20.0}\n",
      "Training time for mobilebert-uncased: 47.03628945350647 seconds\n",
      "****************************************************************************************************\n",
      "\n",
      "Training cahya/bert-base-indonesian-522M\n"
     ]
    },
    {
     "name": "stderr",
     "output_type": "stream",
     "text": [
      "Some weights of BertForSequenceClassification were not initialized from the model checkpoint at cahya/bert-base-indonesian-522M and are newly initialized: ['classifier.bias', 'classifier.weight']\n",
      "You should probably TRAIN this model on a down-stream task to be able to use it for predictions and inference.\n",
      "Asking to truncate to max_length but no maximum length is provided and the model has no predefined maximum length. Default to no truncation.\n"
     ]
    },
    {
     "data": {
      "application/vnd.jupyter.widget-view+json": {
       "model_id": "1779107653ba42bc8b4ae7a90ed07f26",
       "version_major": 2,
       "version_minor": 0
      },
      "text/plain": [
       "  0%|          | 0/300 [00:00<?, ?it/s]"
      ]
     },
     "metadata": {},
     "output_type": "display_data"
    },
    {
     "data": {
      "application/vnd.jupyter.widget-view+json": {
       "model_id": "4443ec9402bc4798abd8eac7a697291e",
       "version_major": 2,
       "version_minor": 0
      },
      "text/plain": [
       "  0%|          | 0/2 [00:00<?, ?it/s]"
      ]
     },
     "metadata": {},
     "output_type": "display_data"
    },
    {
     "name": "stdout",
     "output_type": "stream",
     "text": [
      "{'eval_loss': 2.1544735431671143, 'eval_runtime': 0.0473, 'eval_samples_per_second': 1056.021, 'eval_steps_per_second': 42.241, 'epoch': 1.0}\n"
     ]
    },
    {
     "data": {
      "application/vnd.jupyter.widget-view+json": {
       "model_id": "da1861b4edbb48a7977441a1f2a6fd74",
       "version_major": 2,
       "version_minor": 0
      },
      "text/plain": [
       "  0%|          | 0/2 [00:00<?, ?it/s]"
      ]
     },
     "metadata": {},
     "output_type": "display_data"
    },
    {
     "name": "stdout",
     "output_type": "stream",
     "text": [
      "{'eval_loss': 1.1554046869277954, 'eval_runtime': 0.0467, 'eval_samples_per_second': 1070.549, 'eval_steps_per_second': 42.822, 'epoch': 2.0}\n"
     ]
    },
    {
     "data": {
      "application/vnd.jupyter.widget-view+json": {
       "model_id": "2bf6eca2783f431ea3d18b1ed42fd000",
       "version_major": 2,
       "version_minor": 0
      },
      "text/plain": [
       "  0%|          | 0/2 [00:00<?, ?it/s]"
      ]
     },
     "metadata": {},
     "output_type": "display_data"
    },
    {
     "name": "stdout",
     "output_type": "stream",
     "text": [
      "{'eval_loss': 0.5732111930847168, 'eval_runtime': 0.0467, 'eval_samples_per_second': 1071.753, 'eval_steps_per_second': 42.87, 'epoch': 3.0}\n"
     ]
    },
    {
     "data": {
      "application/vnd.jupyter.widget-view+json": {
       "model_id": "c142ee55ce4a4bf38955eff071c55656",
       "version_major": 2,
       "version_minor": 0
      },
      "text/plain": [
       "  0%|          | 0/2 [00:00<?, ?it/s]"
      ]
     },
     "metadata": {},
     "output_type": "display_data"
    },
    {
     "name": "stdout",
     "output_type": "stream",
     "text": [
      "{'eval_loss': 0.25969040393829346, 'eval_runtime': 0.0466, 'eval_samples_per_second': 1073.789, 'eval_steps_per_second': 42.952, 'epoch': 4.0}\n"
     ]
    },
    {
     "data": {
      "application/vnd.jupyter.widget-view+json": {
       "model_id": "8b387925aef6475c9824c9195c8c653e",
       "version_major": 2,
       "version_minor": 0
      },
      "text/plain": [
       "  0%|          | 0/2 [00:00<?, ?it/s]"
      ]
     },
     "metadata": {},
     "output_type": "display_data"
    },
    {
     "name": "stdout",
     "output_type": "stream",
     "text": [
      "{'eval_loss': 0.1688808798789978, 'eval_runtime': 0.0396, 'eval_samples_per_second': 1263.9, 'eval_steps_per_second': 50.556, 'epoch': 5.0}\n"
     ]
    },
    {
     "data": {
      "application/vnd.jupyter.widget-view+json": {
       "model_id": "58fd3dc904b547f4ba64594bef4605fd",
       "version_major": 2,
       "version_minor": 0
      },
      "text/plain": [
       "  0%|          | 0/2 [00:00<?, ?it/s]"
      ]
     },
     "metadata": {},
     "output_type": "display_data"
    },
    {
     "name": "stdout",
     "output_type": "stream",
     "text": [
      "{'eval_loss': 0.12350311130285263, 'eval_runtime': 0.0538, 'eval_samples_per_second': 929.115, 'eval_steps_per_second': 37.165, 'epoch': 6.0}\n"
     ]
    },
    {
     "data": {
      "application/vnd.jupyter.widget-view+json": {
       "model_id": "662cda4ffb1142ae99bb3f1f24f8f0dd",
       "version_major": 2,
       "version_minor": 0
      },
      "text/plain": [
       "  0%|          | 0/2 [00:00<?, ?it/s]"
      ]
     },
     "metadata": {},
     "output_type": "display_data"
    },
    {
     "name": "stdout",
     "output_type": "stream",
     "text": [
      "{'eval_loss': 0.1105523556470871, 'eval_runtime': 0.0492, 'eval_samples_per_second': 1015.806, 'eval_steps_per_second': 40.632, 'epoch': 7.0}\n"
     ]
    },
    {
     "data": {
      "application/vnd.jupyter.widget-view+json": {
       "model_id": "fb3cb788ba15459db819d3b1f9974009",
       "version_major": 2,
       "version_minor": 0
      },
      "text/plain": [
       "  0%|          | 0/2 [00:00<?, ?it/s]"
      ]
     },
     "metadata": {},
     "output_type": "display_data"
    },
    {
     "name": "stdout",
     "output_type": "stream",
     "text": [
      "{'eval_loss': 0.09116998314857483, 'eval_runtime': 0.0466, 'eval_samples_per_second': 1073.234, 'eval_steps_per_second': 42.929, 'epoch': 8.0}\n"
     ]
    },
    {
     "data": {
      "application/vnd.jupyter.widget-view+json": {
       "model_id": "677c29d212e140dd87180d360215f10d",
       "version_major": 2,
       "version_minor": 0
      },
      "text/plain": [
       "  0%|          | 0/2 [00:00<?, ?it/s]"
      ]
     },
     "metadata": {},
     "output_type": "display_data"
    },
    {
     "name": "stdout",
     "output_type": "stream",
     "text": [
      "{'eval_loss': 0.09144019335508347, 'eval_runtime': 0.0437, 'eval_samples_per_second': 1144.571, 'eval_steps_per_second': 45.783, 'epoch': 9.0}\n"
     ]
    },
    {
     "data": {
      "application/vnd.jupyter.widget-view+json": {
       "model_id": "7b49f757099f44d0ab3d99485884351c",
       "version_major": 2,
       "version_minor": 0
      },
      "text/plain": [
       "  0%|          | 0/2 [00:00<?, ?it/s]"
      ]
     },
     "metadata": {},
     "output_type": "display_data"
    },
    {
     "name": "stdout",
     "output_type": "stream",
     "text": [
      "{'eval_loss': 0.09216375648975372, 'eval_runtime': 0.0385, 'eval_samples_per_second': 1298.498, 'eval_steps_per_second': 51.94, 'epoch': 10.0}\n"
     ]
    },
    {
     "data": {
      "application/vnd.jupyter.widget-view+json": {
       "model_id": "56e243f0cd5e4311885d2f30592200f7",
       "version_major": 2,
       "version_minor": 0
      },
      "text/plain": [
       "  0%|          | 0/2 [00:00<?, ?it/s]"
      ]
     },
     "metadata": {},
     "output_type": "display_data"
    },
    {
     "name": "stdout",
     "output_type": "stream",
     "text": [
      "{'eval_loss': 0.08808144927024841, 'eval_runtime': 0.0398, 'eval_samples_per_second': 1255.118, 'eval_steps_per_second': 50.205, 'epoch': 11.0}\n"
     ]
    },
    {
     "data": {
      "application/vnd.jupyter.widget-view+json": {
       "model_id": "36d220b4223943489afaca5795778eea",
       "version_major": 2,
       "version_minor": 0
      },
      "text/plain": [
       "  0%|          | 0/2 [00:00<?, ?it/s]"
      ]
     },
     "metadata": {},
     "output_type": "display_data"
    },
    {
     "name": "stdout",
     "output_type": "stream",
     "text": [
      "{'eval_loss': 0.09240054339170456, 'eval_runtime': 0.0517, 'eval_samples_per_second': 967.571, 'eval_steps_per_second': 38.703, 'epoch': 12.0}\n"
     ]
    },
    {
     "data": {
      "application/vnd.jupyter.widget-view+json": {
       "model_id": "43ae79913a8543449258b2d4dbc54646",
       "version_major": 2,
       "version_minor": 0
      },
      "text/plain": [
       "  0%|          | 0/2 [00:00<?, ?it/s]"
      ]
     },
     "metadata": {},
     "output_type": "display_data"
    },
    {
     "name": "stdout",
     "output_type": "stream",
     "text": [
      "{'eval_loss': 0.09451120346784592, 'eval_runtime': 0.0401, 'eval_samples_per_second': 1247.021, 'eval_steps_per_second': 49.881, 'epoch': 13.0}\n"
     ]
    },
    {
     "data": {
      "application/vnd.jupyter.widget-view+json": {
       "model_id": "eb405462b020405e96cac3df84086e3f",
       "version_major": 2,
       "version_minor": 0
      },
      "text/plain": [
       "  0%|          | 0/2 [00:00<?, ?it/s]"
      ]
     },
     "metadata": {},
     "output_type": "display_data"
    },
    {
     "name": "stdout",
     "output_type": "stream",
     "text": [
      "{'eval_loss': 0.1056601032614708, 'eval_runtime': 0.0478, 'eval_samples_per_second': 1046.227, 'eval_steps_per_second': 41.849, 'epoch': 14.0}\n"
     ]
    },
    {
     "data": {
      "application/vnd.jupyter.widget-view+json": {
       "model_id": "b737ebd3b7e24e93ae887b9f6920aada",
       "version_major": 2,
       "version_minor": 0
      },
      "text/plain": [
       "  0%|          | 0/2 [00:00<?, ?it/s]"
      ]
     },
     "metadata": {},
     "output_type": "display_data"
    },
    {
     "name": "stdout",
     "output_type": "stream",
     "text": [
      "{'eval_loss': 0.10223520547151566, 'eval_runtime': 0.0522, 'eval_samples_per_second': 958.282, 'eval_steps_per_second': 38.331, 'epoch': 15.0}\n"
     ]
    },
    {
     "data": {
      "application/vnd.jupyter.widget-view+json": {
       "model_id": "b379b793299d4fe38a8d8460b637a631",
       "version_major": 2,
       "version_minor": 0
      },
      "text/plain": [
       "  0%|          | 0/2 [00:00<?, ?it/s]"
      ]
     },
     "metadata": {},
     "output_type": "display_data"
    },
    {
     "name": "stdout",
     "output_type": "stream",
     "text": [
      "{'eval_loss': 0.09521691501140594, 'eval_runtime': 0.0441, 'eval_samples_per_second': 1134.706, 'eval_steps_per_second': 45.388, 'epoch': 16.0}\n"
     ]
    },
    {
     "data": {
      "application/vnd.jupyter.widget-view+json": {
       "model_id": "38a8494488c146298da92c2e639191b1",
       "version_major": 2,
       "version_minor": 0
      },
      "text/plain": [
       "  0%|          | 0/2 [00:00<?, ?it/s]"
      ]
     },
     "metadata": {},
     "output_type": "display_data"
    },
    {
     "name": "stdout",
     "output_type": "stream",
     "text": [
      "{'eval_loss': 0.097079336643219, 'eval_runtime': 0.0413, 'eval_samples_per_second': 1210.855, 'eval_steps_per_second': 48.434, 'epoch': 17.0}\n"
     ]
    },
    {
     "data": {
      "application/vnd.jupyter.widget-view+json": {
       "model_id": "f3022f4e103e467c8be49b32efaf2435",
       "version_major": 2,
       "version_minor": 0
      },
      "text/plain": [
       "  0%|          | 0/2 [00:00<?, ?it/s]"
      ]
     },
     "metadata": {},
     "output_type": "display_data"
    },
    {
     "name": "stdout",
     "output_type": "stream",
     "text": [
      "{'eval_loss': 0.10558206588029861, 'eval_runtime': 0.0416, 'eval_samples_per_second': 1202.406, 'eval_steps_per_second': 48.096, 'epoch': 18.0}\n"
     ]
    },
    {
     "data": {
      "application/vnd.jupyter.widget-view+json": {
       "model_id": "65902e0e50e14313a2e4eef3dae2f22a",
       "version_major": 2,
       "version_minor": 0
      },
      "text/plain": [
       "  0%|          | 0/2 [00:00<?, ?it/s]"
      ]
     },
     "metadata": {},
     "output_type": "display_data"
    },
    {
     "name": "stdout",
     "output_type": "stream",
     "text": [
      "{'eval_loss': 0.10759995132684708, 'eval_runtime': 0.0447, 'eval_samples_per_second': 1118.529, 'eval_steps_per_second': 44.741, 'epoch': 19.0}\n"
     ]
    },
    {
     "data": {
      "application/vnd.jupyter.widget-view+json": {
       "model_id": "4b58058a94bf48d4832813104aed7f98",
       "version_major": 2,
       "version_minor": 0
      },
      "text/plain": [
       "  0%|          | 0/2 [00:00<?, ?it/s]"
      ]
     },
     "metadata": {},
     "output_type": "display_data"
    },
    {
     "name": "stdout",
     "output_type": "stream",
     "text": [
      "{'eval_loss': 0.10719986259937286, 'eval_runtime': 0.0375, 'eval_samples_per_second': 1332.811, 'eval_steps_per_second': 53.312, 'epoch': 20.0}\n",
      "{'train_runtime': 22.4738, 'train_samples_per_second': 400.466, 'train_steps_per_second': 13.349, 'train_loss': 0.31978235880533856, 'epoch': 20.0}\n",
      "Training time for bert-base-indonesian-522M: 22.621609210968018 seconds\n",
      "****************************************************************************************************\n",
      "\n",
      "Training time for bert-base-uncased: 36.041279554367065 seconds\n",
      "Training time for bert-base-multilingual-uncased: 30.75075912475586 seconds\n",
      "Training time for albert-base-v2: 35.40125226974487 seconds\n",
      "Training time for distilbert-base-uncased: 19.67264485359192 seconds\n",
      "Training time for mobilebert-uncased: 47.03628945350647 seconds\n",
      "Training time for bert-base-indonesian-522M: 22.621609210968018 seconds\n"
     ]
    }
   ],
   "source": [
    "for model_name, model_class, model_nickname in models:\n",
    "    print(f\"Training {model_name}\")\n",
    "    train_model(model_name, model_class, model_nickname)\n",
    "    print(\"*\" * 100)\n",
    "    print()\n",
    "\n",
    "for training_time in training_durations:\n",
    "    print(f\"Training time for {training_time}: {training_durations[training_time]} seconds\")"
   ]
  },
  {
   "cell_type": "markdown",
   "metadata": {},
   "source": [
    "# Deploy Trained Models"
   ]
  },
  {
   "cell_type": "code",
   "execution_count": 11,
   "metadata": {},
   "outputs": [],
   "source": [
    "import re\n",
    "from torchinfo import summary"
   ]
  },
  {
   "cell_type": "code",
   "execution_count": 12,
   "metadata": {},
   "outputs": [
    {
     "name": "stdout",
     "output_type": "stream",
     "text": [
      "<class 'pandas.core.frame.DataFrame'>\n",
      "RangeIndex: 250 entries, 0 to 249\n",
      "Data columns (total 2 columns):\n",
      " #   Column      Non-Null Count  Dtype \n",
      "---  ------      --------------  ----- \n",
      " 0   Pertanyaan  250 non-null    object\n",
      " 1   Tag         250 non-null    object\n",
      "dtypes: object(2)\n",
      "memory usage: 4.0+ KB\n"
     ]
    }
   ],
   "source": [
    "TEST_SET_PATH = 'data/Test-Set-Mental-Health-with-Tags.xlsx'\n",
    "test_sets = pd.read_excel(TEST_SET_PATH)\n",
    "test_sets = test_sets[['Pertanyaan', 'Tag']]\n",
    "test_sets.info()\n",
    "\n",
    "test_sets = test_sets.sample(frac=1, random_state=42)\n",
    "# new_test_sets['stem'] = new_test_sets['Pertanyaan'].apply(prepare_question)\n",
    "# print(new_test_sets.head())\n",
    "# print(np.unique(new_test_sets['Tag']))"
   ]
  },
  {
   "cell_type": "code",
   "execution_count": 13,
   "metadata": {},
   "outputs": [],
   "source": [
    "from sklearn.metrics import classification_report\n",
    "from sklearn.metrics import confusion_matrix"
   ]
  },
  {
   "cell_type": "code",
   "execution_count": 14,
   "metadata": {},
   "outputs": [],
   "source": [
    "def get_prediction(text, tokenizer, model):\n",
    "    cleaned_text = re.sub(r\"[^a-zA-Z ]+\", \"\", text)\n",
    "    cleaned_text = prepare_question(cleaned_text)\n",
    "\n",
    "    # Tokenize input text\n",
    "    inputs = tokenizer(\n",
    "        cleaned_text, padding=True, truncation=True, return_tensors=\"pt\"\n",
    "    ).to(device)\n",
    "\n",
    "    # Perform inference\n",
    "    with torch.no_grad():\n",
    "        outputs = model(**inputs)\n",
    "\n",
    "    # Get predicted logits\n",
    "    logits = outputs.logits\n",
    "\n",
    "    # Convert logits to probabilities\n",
    "    probs = torch.softmax(logits, dim=-1)\n",
    "\n",
    "    # Get predicted label (index of the maximum probability)\n",
    "    predicted_label_index = torch.argmax(probs, dim=-1).item()\n",
    "\n",
    "    # Get corresponding label name\n",
    "    predicted_label = tags[predicted_label_index]\n",
    "\n",
    "    return predicted_label"
   ]
  },
  {
   "cell_type": "code",
   "execution_count": 15,
   "metadata": {},
   "outputs": [],
   "source": [
    "def deploy_model(model_name, model_class):\n",
    "    model = model_class.from_pretrained(f\"./results/{model_name}_fine-tuned_mental-health\", num_labels=len(tags))\n",
    "    tokenizer = AutoTokenizer.from_pretrained(f\"./results/{model_name}\")\n",
    "\n",
    "    model.to(device)\n",
    "    print(summary(model))\n",
    "\n",
    "    prediction_results = []\n",
    "    prediction_time = []\n",
    "\n",
    "    for index, row in test_sets.iterrows():\n",
    "        start_time = time.time()\n",
    "        text = row['Pertanyaan']\n",
    "        predicted_label = get_prediction(text, tokenizer, model)\n",
    "        end_time = time.time()\n",
    "\n",
    "        prediction_results.append((predicted_label))\n",
    "        prediction_time.append(end_time - start_time)\n",
    "    \n",
    "    return prediction_results, prediction_time\n"
   ]
  },
  {
   "cell_type": "code",
   "execution_count": 16,
   "metadata": {},
   "outputs": [
    {
     "name": "stdout",
     "output_type": "stream",
     "text": [
      "Deploying ./results/bert-base-uncased_fine-tuned_mental-health\n",
      "=====================================================================================\n",
      "Layer (type:depth-idx)                                       Param #\n",
      "=====================================================================================\n",
      "BertForSequenceClassification                                --\n",
      "├─BertModel: 1-1                                             --\n",
      "│    └─BertEmbeddings: 2-1                                   --\n",
      "│    │    └─Embedding: 3-1                                   23,440,896\n",
      "│    │    └─Embedding: 3-2                                   393,216\n",
      "│    │    └─Embedding: 3-3                                   1,536\n",
      "│    │    └─LayerNorm: 3-4                                   1,536\n",
      "│    │    └─Dropout: 3-5                                     --\n",
      "│    └─BertEncoder: 2-2                                      --\n",
      "│    │    └─ModuleList: 3-6                                  85,054,464\n",
      "│    └─BertPooler: 2-3                                       --\n",
      "│    │    └─Linear: 3-7                                      590,592\n",
      "│    │    └─Tanh: 3-8                                        --\n",
      "├─Dropout: 1-2                                               --\n",
      "├─Linear: 1-3                                                19,225\n",
      "=====================================================================================\n",
      "Total params: 109,501,465\n",
      "Trainable params: 109,501,465\n",
      "Non-trainable params: 0\n",
      "=====================================================================================\n",
      "****************************************************************************************************\n",
      "\n",
      "Deploying ./results/bert-base-multilingual-uncased_fine-tuned_mental-health\n",
      "=====================================================================================\n",
      "Layer (type:depth-idx)                                       Param #\n",
      "=====================================================================================\n",
      "BertForSequenceClassification                                --\n",
      "├─BertModel: 1-1                                             --\n",
      "│    └─BertEmbeddings: 2-1                                   --\n",
      "│    │    └─Embedding: 3-1                                   81,315,072\n",
      "│    │    └─Embedding: 3-2                                   393,216\n",
      "│    │    └─Embedding: 3-3                                   1,536\n",
      "│    │    └─LayerNorm: 3-4                                   1,536\n",
      "│    │    └─Dropout: 3-5                                     --\n",
      "│    └─BertEncoder: 2-2                                      --\n",
      "│    │    └─ModuleList: 3-6                                  85,054,464\n",
      "│    └─BertPooler: 2-3                                       --\n",
      "│    │    └─Linear: 3-7                                      590,592\n",
      "│    │    └─Tanh: 3-8                                        --\n",
      "├─Dropout: 1-2                                               --\n",
      "├─Linear: 1-3                                                19,225\n",
      "=====================================================================================\n",
      "Total params: 167,375,641\n",
      "Trainable params: 167,375,641\n",
      "Non-trainable params: 0\n",
      "=====================================================================================\n",
      "****************************************************************************************************\n",
      "\n",
      "Deploying ./results/albert/albert-base-v2_fine-tuned_mental-health\n",
      "=====================================================================================\n",
      "Layer (type:depth-idx)                                       Param #\n",
      "=====================================================================================\n",
      "AlbertForSequenceClassification                              --\n",
      "├─AlbertModel: 1-1                                           --\n",
      "│    └─AlbertEmbeddings: 2-1                                 --\n",
      "│    │    └─Embedding: 3-1                                   3,840,000\n",
      "│    │    └─Embedding: 3-2                                   65,536\n",
      "│    │    └─Embedding: 3-3                                   256\n",
      "│    │    └─LayerNorm: 3-4                                   256\n",
      "│    │    └─Dropout: 3-5                                     --\n",
      "│    └─AlbertTransformer: 2-2                                --\n",
      "│    │    └─Linear: 3-6                                      99,072\n",
      "│    │    └─ModuleList: 3-7                                  7,087,872\n",
      "│    └─Linear: 2-3                                           590,592\n",
      "│    └─Tanh: 2-4                                             --\n",
      "├─Dropout: 1-2                                               --\n",
      "├─Linear: 1-3                                                19,225\n",
      "=====================================================================================\n",
      "Total params: 11,702,809\n",
      "Trainable params: 11,702,809\n",
      "Non-trainable params: 0\n",
      "=====================================================================================\n",
      "****************************************************************************************************\n",
      "\n",
      "Deploying ./results/distilbert-base-uncased_fine-tuned_mental-health\n",
      "================================================================================\n",
      "Layer (type:depth-idx)                                  Param #\n",
      "================================================================================\n",
      "DistilBertForSequenceClassification                     --\n",
      "├─DistilBertModel: 1-1                                  --\n",
      "│    └─Embeddings: 2-1                                  --\n",
      "│    │    └─Embedding: 3-1                              23,440,896\n",
      "│    │    └─Embedding: 3-2                              393,216\n",
      "│    │    └─LayerNorm: 3-3                              1,536\n",
      "│    │    └─Dropout: 3-4                                --\n",
      "│    └─Transformer: 2-2                                 --\n",
      "│    │    └─ModuleList: 3-5                             42,527,232\n",
      "├─Linear: 1-2                                           590,592\n",
      "├─Linear: 1-3                                           19,225\n",
      "├─Dropout: 1-4                                          --\n",
      "================================================================================\n",
      "Total params: 66,972,697\n",
      "Trainable params: 66,972,697\n",
      "Non-trainable params: 0\n",
      "================================================================================\n",
      "****************************************************************************************************\n",
      "\n",
      "Deploying ./results/google/mobilebert-uncased_fine-tuned_mental-health\n"
     ]
    },
    {
     "name": "stderr",
     "output_type": "stream",
     "text": [
      "Asking to truncate to max_length but no maximum length is provided and the model has no predefined maximum length. Default to no truncation.\n"
     ]
    },
    {
     "name": "stdout",
     "output_type": "stream",
     "text": [
      "==========================================================================================\n",
      "Layer (type:depth-idx)                                            Param #\n",
      "==========================================================================================\n",
      "MobileBertForSequenceClassification                               --\n",
      "├─MobileBertModel: 1-1                                            --\n",
      "│    └─MobileBertEmbeddings: 2-1                                  --\n",
      "│    │    └─Embedding: 3-1                                        3,906,816\n",
      "│    │    └─Embedding: 3-2                                        262,144\n",
      "│    │    └─Embedding: 3-3                                        1,024\n",
      "│    │    └─Linear: 3-4                                           197,120\n",
      "│    │    └─NoNorm: 3-5                                           1,024\n",
      "│    │    └─Dropout: 3-6                                          --\n",
      "│    └─MobileBertEncoder: 2-2                                     --\n",
      "│    │    └─ModuleList: 3-7                                       20,213,760\n",
      "│    └─MobileBertPooler: 2-3                                      --\n",
      "├─Dropout: 1-2                                                    --\n",
      "├─Linear: 1-3                                                     12,825\n",
      "==========================================================================================\n",
      "Total params: 24,594,713\n",
      "Trainable params: 24,594,713\n",
      "Non-trainable params: 0\n",
      "==========================================================================================\n",
      "****************************************************************************************************\n",
      "\n",
      "Deploying ./results/cahya/bert-base-indonesian-522M_fine-tuned_mental-health\n"
     ]
    },
    {
     "name": "stderr",
     "output_type": "stream",
     "text": [
      "Asking to truncate to max_length but no maximum length is provided and the model has no predefined maximum length. Default to no truncation.\n"
     ]
    },
    {
     "name": "stdout",
     "output_type": "stream",
     "text": [
      "=====================================================================================\n",
      "Layer (type:depth-idx)                                       Param #\n",
      "=====================================================================================\n",
      "BertForSequenceClassification                                --\n",
      "├─BertModel: 1-1                                             --\n",
      "│    └─BertEmbeddings: 2-1                                   --\n",
      "│    │    └─Embedding: 3-1                                   24,576,000\n",
      "│    │    └─Embedding: 3-2                                   393,216\n",
      "│    │    └─Embedding: 3-3                                   1,536\n",
      "│    │    └─LayerNorm: 3-4                                   1,536\n",
      "│    │    └─Dropout: 3-5                                     --\n",
      "│    └─BertEncoder: 2-2                                      --\n",
      "│    │    └─ModuleList: 3-6                                  85,054,464\n",
      "│    └─BertPooler: 2-3                                       --\n",
      "│    │    └─Linear: 3-7                                      590,592\n",
      "│    │    └─Tanh: 3-8                                        --\n",
      "├─Dropout: 1-2                                               --\n",
      "├─Linear: 1-3                                                19,225\n",
      "=====================================================================================\n",
      "Total params: 110,636,569\n",
      "Trainable params: 110,636,569\n",
      "Non-trainable params: 0\n",
      "=====================================================================================\n",
      "****************************************************************************************************\n",
      "\n"
     ]
    }
   ],
   "source": [
    "model_results = {}\n",
    "from copy import deepcopy\n",
    "for model_name, model_class, model_nickname in models:\n",
    "    print(f\"Deploying ./results/{model_name}_fine-tuned_mental-health\")\n",
    "    prediction_results, prediction_time = deploy_model(model_name, model_class)\n",
    "    print(\"*\" * 100)\n",
    "    print()\n",
    "\n",
    "    test_sets['Predicted Tag'] = prediction_results\n",
    "    test_sets['Prediction Time'] = prediction_time\n",
    "\n",
    "    model_results[model_nickname] = deepcopy(test_sets)"
   ]
  },
  {
   "cell_type": "markdown",
   "metadata": {},
   "source": [
    "# Evaluasi"
   ]
  },
  {
   "cell_type": "code",
   "execution_count": 17,
   "metadata": {},
   "outputs": [],
   "source": [
    "def save_to_excel(data, file_name, sheet_name):\n",
    "    # Try to open the existing Excel file and replace the sheet, or create a new file if it doesn't exist\n",
    "    try:\n",
    "        # Load the existing Excel file\n",
    "        with pd.ExcelWriter(file_name, engine='openpyxl', mode='a', if_sheet_exists='replace') as writer:\n",
    "            # Write to the specified sheet, replacing if it exists\n",
    "            data.to_excel(writer, sheet_name=sheet_name, index=False)\n",
    "    except FileNotFoundError:\n",
    "        # Create a new Excel file if it doesn't exist\n",
    "        with pd.ExcelWriter(file_name, engine='openpyxl') as writer:\n",
    "            data.to_excel(writer, sheet_name=sheet_name, index=False)"
   ]
  },
  {
   "cell_type": "code",
   "execution_count": 18,
   "metadata": {},
   "outputs": [
    {
     "name": "stdout",
     "output_type": "stream",
     "text": [
      "Results for bert-base-uncased\n",
      "                                            Pertanyaan    Tag Predicted Tag  \\\n",
      "142  Bagaimana fokus pada kekuatan dan pencapaian d...  tag15         tag10   \n",
      "6    Bagaimana cara mengatasi perasaan tertekan kar...   tag1          tag2   \n",
      "97   Apa yang terjadi di otak ketika saya tidak tid...  tag10          tag6   \n",
      "60   Apa saja gejala yang menunjukkan bahwa kurang ...   tag7          tag7   \n",
      "112  Bagaimana cara mendengarkan teman yang sedang ...  tag12         tag15   \n",
      "\n",
      "     Prediction Time  \n",
      "142         0.066890  \n",
      "6           0.033645  \n",
      "97          0.000000  \n",
      "60          0.016512  \n",
      "112         0.083639  \n",
      "\n",
      "Training duration: 36.041279554367065 seconds\n",
      "Accuracy: 0.436\n",
      "Average prediction time: 0.019018260955810547 seconds\n",
      "\n",
      "              precision  recall  f1-score  support\n",
      "tag11          1.000000   0.600  0.750000   10.000\n",
      "tag12          0.875000   0.700  0.777778   10.000\n",
      "tag20          0.833333   0.500  0.625000   10.000\n",
      "tag21          0.777778   0.700  0.736842   10.000\n",
      "tag22          0.750000   0.600  0.666667   10.000\n",
      "tag24          0.666667   0.200  0.307692   10.000\n",
      "tag8           0.666667   0.200  0.307692   10.000\n",
      "tag18          0.666667   0.200  0.307692   10.000\n",
      "tag19          0.615385   0.800  0.695652   10.000\n",
      "tag7           0.571429   0.400  0.470588   10.000\n",
      "tag5           0.571429   0.400  0.470588   10.000\n",
      "tag17          0.533333   0.800  0.640000   10.000\n",
      "tag15          0.500000   0.700  0.583333   10.000\n",
      "macro avg      0.450351   0.436  0.401975  250.000\n",
      "weighted avg   0.450351   0.436  0.401975  250.000\n",
      "tag14          0.444444   0.800  0.571429   10.000\n",
      "accuracy       0.436000   0.436  0.436000    0.436\n",
      "tag25          0.333333   0.600  0.428571   10.000\n",
      "tag16          0.333333   0.700  0.451613   10.000\n",
      "tag9           0.300000   0.300  0.300000   10.000\n",
      "tag2           0.243902   1.000  0.392157   10.000\n",
      "tag10          0.222222   0.200  0.210526   10.000\n",
      "tag23          0.200000   0.100  0.133333   10.000\n",
      "tag6           0.153846   0.400  0.222222   10.000\n",
      "tag3           0.000000   0.000  0.000000   10.000\n",
      "tag4           0.000000   0.000  0.000000   10.000\n",
      "tag13          0.000000   0.000  0.000000   10.000\n",
      "tag1           0.000000   0.000  0.000000   10.000\n",
      "              precision    recall  f1-score   support\n",
      "\n",
      "        tag1       0.00      0.00      0.00        10\n",
      "       tag10       0.22      0.20      0.21        10\n",
      "       tag11       1.00      0.60      0.75        10\n",
      "       tag12       0.88      0.70      0.78        10\n",
      "       tag13       0.00      0.00      0.00        10\n",
      "       tag14       0.44      0.80      0.57        10\n",
      "       tag15       0.50      0.70      0.58        10\n",
      "       tag16       0.33      0.70      0.45        10\n",
      "       tag17       0.53      0.80      0.64        10\n",
      "       tag18       0.67      0.20      0.31        10\n",
      "       tag19       0.62      0.80      0.70        10\n",
      "        tag2       0.24      1.00      0.39        10\n",
      "       tag20       0.83      0.50      0.62        10\n",
      "       tag21       0.78      0.70      0.74        10\n",
      "       tag22       0.75      0.60      0.67        10\n",
      "       tag23       0.20      0.10      0.13        10\n",
      "       tag24       0.67      0.20      0.31        10\n",
      "       tag25       0.33      0.60      0.43        10\n",
      "        tag3       0.00      0.00      0.00        10\n",
      "        tag4       0.00      0.00      0.00        10\n",
      "        tag5       0.57      0.40      0.47        10\n",
      "        tag6       0.15      0.40      0.22        10\n",
      "        tag7       0.57      0.40      0.47        10\n",
      "        tag8       0.67      0.20      0.31        10\n",
      "        tag9       0.30      0.30      0.30        10\n",
      "\n",
      "    accuracy                           0.44       250\n",
      "   macro avg       0.45      0.44      0.40       250\n",
      "weighted avg       0.45      0.44      0.40       250\n",
      "\n",
      "\n",
      "['tag1' 'tag10' 'tag11' 'tag12' 'tag13' 'tag14' 'tag15' 'tag16' 'tag17'\n",
      " 'tag18' 'tag19' 'tag2' 'tag20' 'tag21' 'tag22' 'tag23' 'tag24' 'tag25'\n",
      " 'tag3' 'tag4' 'tag5' 'tag6' 'tag7' 'tag8' 'tag9']\n",
      "[[ 0  0  0  0  0  0  0  0  0  0  0 10  0  0  0  0  0  0  0  0  0  0  0  0\n",
      "   0]\n",
      " [ 0  2  0  0  0  0  0  0  0  0  0  0  0  0  0  0  1  2  0  0  0  4  1  0\n",
      "   0]\n",
      " [ 0  0  6  0  0  2  2  0  0  0  0  0  0  0  0  0  0  0  0  0  0  0  0  0\n",
      "   0]\n",
      " [ 0  0  0  7  0  0  3  0  0  0  0  0  0  0  0  0  0  0  0  0  0  0  0  0\n",
      "   0]\n",
      " [ 0  0  0  1  0  6  1  0  0  1  0  0  1  0  0  0  0  0  0  0  0  0  0  0\n",
      "   0]\n",
      " [ 0  0  0  0  0  8  1  1  0  0  0  0  0  0  0  0  0  0  0  0  0  0  0  0\n",
      "   0]\n",
      " [ 0  2  0  0  0  0  7  0  0  0  1  0  0  0  0  0  0  0  0  0  0  0  0  0\n",
      "   0]\n",
      " [ 0  0  0  0  0  0  0  7  3  0  0  0  0  0  0  0  0  0  0  0  0  0  0  0\n",
      "   0]\n",
      " [ 0  0  0  0  0  0  0  2  8  0  0  0  0  0  0  0  0  0  0  0  0  0  0  0\n",
      "   0]\n",
      " [ 0  0  0  0  0  0  0  5  0  2  3  0  0  0  0  0  0  0  0  0  0  0  0  0\n",
      "   0]\n",
      " [ 0  1  0  0  0  0  0  1  0  0  8  0  0  0  0  0  0  0  0  0  0  0  0  0\n",
      "   0]\n",
      " [ 0  0  0  0  0  0  0  0  0  0  0 10  0  0  0  0  0  0  0  0  0  0  0  0\n",
      "   0]\n",
      " [ 0  0  0  0  0  0  0  0  1  0  0  0  5  0  0  0  0  3  0  0  0  1  0  0\n",
      "   0]\n",
      " [ 0  0  0  0  0  0  0  1  0  0  0  0  0  7  0  2  0  0  0  0  0  0  0  0\n",
      "   0]\n",
      " [ 0  0  0  0  0  0  0  0  2  0  0  0  0  1  6  0  0  1  0  0  0  0  0  0\n",
      "   0]\n",
      " [ 0  0  0  0  0  1  0  1  1  0  0  0  0  0  1  1  0  0  0  0  0  2  0  0\n",
      "   3]\n",
      " [ 0  0  0  0  0  0  0  1  0  0  0  0  0  0  1  0  2  6  0  0  0  0  0  0\n",
      "   0]\n",
      " [ 0  0  0  0  0  0  0  1  0  0  1  0  0  0  0  2  0  6  0  0  0  0  0  0\n",
      "   0]\n",
      " [ 0  0  0  0  0  0  0  0  0  0  0  9  0  0  0  0  0  0  0  0  0  1  0  0\n",
      "   0]\n",
      " [ 0  0  0  0  0  0  0  1  0  0  0  6  0  0  0  0  0  0  0  0  3  0  0  0\n",
      "   0]\n",
      " [ 0  0  0  0  0  0  0  0  0  0  0  6  0  0  0  0  0  0  0  0  4  0  0  0\n",
      "   0]\n",
      " [ 0  1  0  0  0  0  0  0  0  0  0  0  0  0  0  0  0  0  0  0  0  4  1  1\n",
      "   3]\n",
      " [ 0  1  0  0  0  0  0  0  0  0  0  0  0  0  0  0  0  0  0  0  0  5  4  0\n",
      "   0]\n",
      " [ 0  2  0  0  0  1  0  0  0  0  0  0  0  0  0  0  0  0  0  0  0  3  1  2\n",
      "   1]\n",
      " [ 0  0  0  0  0  0  0  0  0  0  0  0  0  1  0  0  0  0  0  0  0  6  0  0\n",
      "   3]]\n",
      "****************************************************************************************************\n",
      "\n",
      "Results for bert-base-multilingual-uncased\n",
      "                                            Pertanyaan    Tag Predicted Tag  \\\n",
      "142  Bagaimana fokus pada kekuatan dan pencapaian d...  tag15         tag19   \n",
      "6    Bagaimana cara mengatasi perasaan tertekan kar...   tag1          tag1   \n",
      "97   Apa yang terjadi di otak ketika saya tidak tid...  tag10          tag6   \n",
      "60   Apa saja gejala yang menunjukkan bahwa kurang ...   tag7          tag6   \n",
      "112  Bagaimana cara mendengarkan teman yang sedang ...  tag12          tag3   \n",
      "\n",
      "     Prediction Time  \n",
      "142         0.016565  \n",
      "6           0.000000  \n",
      "97          0.016720  \n",
      "60          0.000000  \n",
      "112         0.018034  \n",
      "\n",
      "Training duration: 30.75075912475586 seconds\n",
      "Accuracy: 0.38\n",
      "Average prediction time: 0.00744647216796875 seconds\n",
      "\n",
      "              precision  recall  f1-score  support\n",
      "tag22          1.000000    0.10  0.181818    10.00\n",
      "tag11          1.000000    0.20  0.333333    10.00\n",
      "tag13          1.000000    0.10  0.181818    10.00\n",
      "tag17          1.000000    0.10  0.181818    10.00\n",
      "tag2           1.000000    0.40  0.571429    10.00\n",
      "tag19          0.777778    0.70  0.736842    10.00\n",
      "tag24          0.750000    0.30  0.428571    10.00\n",
      "tag25          0.666667    0.20  0.307692    10.00\n",
      "tag21          0.666667    0.20  0.307692    10.00\n",
      "tag12          0.615385    0.80  0.695652    10.00\n",
      "tag23          0.600000    0.30  0.400000    10.00\n",
      "tag14          0.600000    0.30  0.400000    10.00\n",
      "tag18          0.583333    0.70  0.636364    10.00\n",
      "macro avg      0.540159    0.38  0.359528   250.00\n",
      "weighted avg   0.540159    0.38  0.359528   250.00\n",
      "tag20          0.500000    0.70  0.583333    10.00\n",
      "tag9           0.416667    0.50  0.454545    10.00\n",
      "tag15          0.384615    0.50  0.434783    10.00\n",
      "accuracy       0.380000    0.38  0.380000     0.38\n",
      "tag3           0.333333    0.20  0.250000    10.00\n",
      "tag5           0.333333    1.00  0.500000    10.00\n",
      "tag1           0.333333    0.30  0.315789    10.00\n",
      "tag16          0.250000    1.00  0.400000    10.00\n",
      "tag4           0.250000    0.10  0.142857    10.00\n",
      "tag8           0.200000    0.20  0.200000    10.00\n",
      "tag6           0.142857    0.40  0.210526    10.00\n",
      "tag10          0.100000    0.20  0.133333    10.00\n",
      "tag7           0.000000    0.00  0.000000    10.00\n",
      "              precision    recall  f1-score   support\n",
      "\n",
      "        tag1       0.33      0.30      0.32        10\n",
      "       tag10       0.10      0.20      0.13        10\n",
      "       tag11       1.00      0.20      0.33        10\n",
      "       tag12       0.62      0.80      0.70        10\n",
      "       tag13       1.00      0.10      0.18        10\n",
      "       tag14       0.60      0.30      0.40        10\n",
      "       tag15       0.38      0.50      0.43        10\n",
      "       tag16       0.25      1.00      0.40        10\n",
      "       tag17       1.00      0.10      0.18        10\n",
      "       tag18       0.58      0.70      0.64        10\n",
      "       tag19       0.78      0.70      0.74        10\n",
      "        tag2       1.00      0.40      0.57        10\n",
      "       tag20       0.50      0.70      0.58        10\n",
      "       tag21       0.67      0.20      0.31        10\n",
      "       tag22       1.00      0.10      0.18        10\n",
      "       tag23       0.60      0.30      0.40        10\n",
      "       tag24       0.75      0.30      0.43        10\n",
      "       tag25       0.67      0.20      0.31        10\n",
      "        tag3       0.33      0.20      0.25        10\n",
      "        tag4       0.25      0.10      0.14        10\n",
      "        tag5       0.33      1.00      0.50        10\n",
      "        tag6       0.14      0.40      0.21        10\n",
      "        tag7       0.00      0.00      0.00        10\n",
      "        tag8       0.20      0.20      0.20        10\n",
      "        tag9       0.42      0.50      0.45        10\n",
      "\n",
      "    accuracy                           0.38       250\n",
      "   macro avg       0.54      0.38      0.36       250\n",
      "weighted avg       0.54      0.38      0.36       250\n",
      "\n",
      "\n",
      "['tag1' 'tag10' 'tag11' 'tag12' 'tag13' 'tag14' 'tag15' 'tag16' 'tag17'\n",
      " 'tag18' 'tag19' 'tag2' 'tag20' 'tag21' 'tag22' 'tag23' 'tag24' 'tag25'\n",
      " 'tag3' 'tag4' 'tag5' 'tag6' 'tag7' 'tag8' 'tag9']\n",
      "[[ 3  0  0  0  0  0  0  0  0  0  0  0  0  0  0  0  0  0  0  1  6  0  0  0\n",
      "   0]\n",
      " [ 0  2  0  0  0  0  0  0  0  0  0  0  0  0  0  0  0  0  0  0  0  5  0  3\n",
      "   0]\n",
      " [ 0  1  2  0  0  0  4  1  0  1  0  0  0  0  0  1  0  0  0  0  0  0  0  0\n",
      "   0]\n",
      " [ 0  0  0  8  0  0  0  0  0  0  0  0  0  0  0  0  0  0  2  0  0  0  0  0\n",
      "   0]\n",
      " [ 0  2  0  0  1  0  0  2  0  2  0  0  0  0  0  0  0  0  0  0  0  0  0  0\n",
      "   3]\n",
      " [ 0  1  0  0  0  3  2  1  0  0  0  0  0  0  0  0  0  0  0  0  0  1  0  0\n",
      "   2]\n",
      " [ 0  0  0  1  0  2  5  0  0  0  1  0  0  0  0  0  0  0  1  0  0  0  0  0\n",
      "   0]\n",
      " [ 0  0  0  0  0  0  0 10  0  0  0  0  0  0  0  0  0  0  0  0  0  0  0  0\n",
      "   0]\n",
      " [ 0  0  0  1  0  0  0  3  1  0  1  0  4  0  0  0  0  0  0  0  0  0  0  0\n",
      "   0]\n",
      " [ 0  0  0  0  0  0  0  3  0  7  0  0  0  0  0  0  0  0  0  0  0  0  0  0\n",
      "   0]\n",
      " [ 0  0  0  0  0  0  1  1  0  0  7  0  1  0  0  0  0  0  0  0  0  0  0  0\n",
      "   0]\n",
      " [ 2  0  0  0  0  0  0  0  0  0  0  4  0  0  0  0  0  0  0  0  4  0  0  0\n",
      "   0]\n",
      " [ 0  0  0  0  0  0  0  2  0  0  0  0  7  0  0  0  0  0  0  0  0  1  0  0\n",
      "   0]\n",
      " [ 0  0  0  0  0  0  0  5  0  0  0  0  2  2  0  0  0  0  0  0  0  1  0  0\n",
      "   0]\n",
      " [ 0  1  0  2  0  0  1  3  0  0  0  0  0  0  1  1  0  1  0  0  0  0  0  0\n",
      "   0]\n",
      " [ 0  2  0  0  0  0  0  0  0  2  0  0  0  0  0  3  0  0  1  0  1  0  0  0\n",
      "   1]\n",
      " [ 0  5  0  0  0  0  0  0  0  0  0  0  0  0  0  0  3  0  0  0  0  2  0  0\n",
      "   0]\n",
      " [ 0  2  0  1  0  0  0  2  0  0  0  0  0  1  0  0  1  2  0  0  0  0  0  1\n",
      "   0]\n",
      " [ 2  1  0  0  0  0  0  0  0  0  0  0  0  0  0  0  0  0  2  2  3  0  0  0\n",
      "   0]\n",
      " [ 2  0  0  0  0  0  0  1  0  0  0  0  0  0  0  0  0  0  0  1  6  0  0  0\n",
      "   0]\n",
      " [ 0  0  0  0  0  0  0  0  0  0  0  0  0  0  0  0  0  0  0  0 10  0  0  0\n",
      "   0]\n",
      " [ 0  2  0  0  0  0  0  0  0  0  0  0  0  0  0  0  0  0  0  0  0  4  1  2\n",
      "   1]\n",
      " [ 0  0  0  0  0  0  0  0  0  0  0  0  0  0  0  0  0  0  0  0  0  8  0  2\n",
      "   0]\n",
      " [ 0  1  0  0  0  0  0  3  0  0  0  0  0  0  0  0  0  0  0  0  0  4  0  2\n",
      "   0]\n",
      " [ 0  0  0  0  0  0  0  3  0  0  0  0  0  0  0  0  0  0  0  0  0  2  0  0\n",
      "   5]]\n",
      "****************************************************************************************************\n",
      "\n",
      "Results for albert-base-v2\n",
      "                                            Pertanyaan    Tag Predicted Tag  \\\n",
      "142  Bagaimana fokus pada kekuatan dan pencapaian d...  tag15         tag22   \n",
      "6    Bagaimana cara mengatasi perasaan tertekan kar...   tag1          tag1   \n",
      "97   Apa yang terjadi di otak ketika saya tidak tid...  tag10          tag6   \n",
      "60   Apa saja gejala yang menunjukkan bahwa kurang ...   tag7          tag6   \n",
      "112  Bagaimana cara mendengarkan teman yang sedang ...  tag12         tag12   \n",
      "\n",
      "     Prediction Time  \n",
      "142         0.000000  \n",
      "6           0.016383  \n",
      "97          0.000000  \n",
      "60          0.016550  \n",
      "112         0.015404  \n",
      "\n",
      "Training duration: 35.40125226974487 seconds\n",
      "Accuracy: 0.304\n",
      "Average prediction time: 0.008695011138916015 seconds\n",
      "\n",
      "              precision  recall  f1-score  support\n",
      "tag14          1.000000   0.100  0.181818   10.000\n",
      "tag8           1.000000   0.100  0.181818   10.000\n",
      "tag17          1.000000   0.500  0.666667   10.000\n",
      "tag20          1.000000   0.700  0.823529   10.000\n",
      "tag13          0.857143   0.600  0.705882   10.000\n",
      "tag11          0.600000   0.300  0.400000   10.000\n",
      "tag12          0.500000   0.300  0.375000   10.000\n",
      "tag5           0.500000   0.600  0.545455   10.000\n",
      "tag22          0.400000   0.200  0.266667   10.000\n",
      "tag2           0.384615   0.500  0.434783   10.000\n",
      "macro avg      0.379095   0.304  0.281913  250.000\n",
      "weighted avg   0.379095   0.304  0.281913  250.000\n",
      "tag9           0.333333   0.200  0.250000   10.000\n",
      "tag1           0.333333   0.200  0.250000   10.000\n",
      "accuracy       0.304000   0.304  0.304000    0.304\n",
      "tag19          0.269231   0.700  0.388889   10.000\n",
      "tag21          0.259259   0.700  0.378378   10.000\n",
      "tag25          0.222222   0.200  0.210526   10.000\n",
      "tag15          0.208333   0.500  0.294118   10.000\n",
      "tag6           0.195122   0.800  0.313725   10.000\n",
      "tag16          0.166667   0.100  0.125000   10.000\n",
      "tag23          0.142857   0.100  0.117647   10.000\n",
      "tag4           0.105263   0.200  0.137931   10.000\n",
      "tag10          0.000000   0.000  0.000000   10.000\n",
      "tag24          0.000000   0.000  0.000000   10.000\n",
      "tag3           0.000000   0.000  0.000000   10.000\n",
      "tag18          0.000000   0.000  0.000000   10.000\n",
      "tag7           0.000000   0.000  0.000000   10.000\n",
      "              precision    recall  f1-score   support\n",
      "\n",
      "        tag1       0.33      0.20      0.25        10\n",
      "       tag10       0.00      0.00      0.00        10\n",
      "       tag11       0.60      0.30      0.40        10\n",
      "       tag12       0.50      0.30      0.38        10\n",
      "       tag13       0.86      0.60      0.71        10\n",
      "       tag14       1.00      0.10      0.18        10\n",
      "       tag15       0.21      0.50      0.29        10\n",
      "       tag16       0.17      0.10      0.12        10\n",
      "       tag17       1.00      0.50      0.67        10\n",
      "       tag18       0.00      0.00      0.00        10\n",
      "       tag19       0.27      0.70      0.39        10\n",
      "        tag2       0.38      0.50      0.43        10\n",
      "       tag20       1.00      0.70      0.82        10\n",
      "       tag21       0.26      0.70      0.38        10\n",
      "       tag22       0.40      0.20      0.27        10\n",
      "       tag23       0.14      0.10      0.12        10\n",
      "       tag24       0.00      0.00      0.00        10\n",
      "       tag25       0.22      0.20      0.21        10\n",
      "        tag3       0.00      0.00      0.00        10\n",
      "        tag4       0.11      0.20      0.14        10\n",
      "        tag5       0.50      0.60      0.55        10\n",
      "        tag6       0.20      0.80      0.31        10\n",
      "        tag7       0.00      0.00      0.00        10\n",
      "        tag8       1.00      0.10      0.18        10\n",
      "        tag9       0.33      0.20      0.25        10\n",
      "\n",
      "    accuracy                           0.30       250\n",
      "   macro avg       0.38      0.30      0.28       250\n",
      "weighted avg       0.38      0.30      0.28       250\n",
      "\n",
      "\n",
      "['tag1' 'tag10' 'tag11' 'tag12' 'tag13' 'tag14' 'tag15' 'tag16' 'tag17'\n",
      " 'tag18' 'tag19' 'tag2' 'tag20' 'tag21' 'tag22' 'tag23' 'tag24' 'tag25'\n",
      " 'tag3' 'tag4' 'tag5' 'tag6' 'tag7' 'tag8' 'tag9']\n",
      "[[2 0 0 0 0 0 0 0 0 0 0 1 0 0 0 0 0 0 0 7 0 0 0 0 0]\n",
      " [0 0 0 0 0 0 0 0 0 0 0 0 0 1 0 0 0 0 0 0 0 8 1 0 0]\n",
      " [0 0 3 1 0 0 5 0 0 0 0 0 0 0 0 0 0 1 0 0 0 0 0 0 0]\n",
      " [0 0 2 3 0 0 1 0 0 0 0 0 0 0 0 0 0 3 0 0 0 0 0 0 1]\n",
      " [0 0 0 0 6 0 3 0 0 0 0 0 0 0 0 0 0 0 0 0 0 0 1 0 0]\n",
      " [0 0 0 1 0 1 6 0 0 0 0 0 0 0 0 2 0 0 0 0 0 0 0 0 0]\n",
      " [0 0 0 1 0 0 5 0 0 0 0 0 0 1 1 1 0 1 0 0 0 0 0 0 0]\n",
      " [0 0 0 0 0 0 0 1 0 0 6 0 0 0 0 0 0 0 0 0 0 0 3 0 0]\n",
      " [0 0 0 0 0 0 0 3 5 0 2 0 0 0 0 0 0 0 0 0 0 0 0 0 0]\n",
      " [0 0 0 0 0 0 0 1 0 0 9 0 0 0 0 0 0 0 0 0 0 0 0 0 0]\n",
      " [0 0 0 0 0 0 0 1 0 0 7 0 0 1 0 1 0 0 0 0 0 0 0 0 0]\n",
      " [1 0 0 0 0 0 0 0 0 0 0 5 0 0 0 0 0 0 0 3 0 0 1 0 0]\n",
      " [0 0 0 0 0 0 0 0 0 0 1 0 7 1 0 1 0 0 0 0 0 0 0 0 0]\n",
      " [0 0 0 0 0 0 0 0 0 0 0 0 0 7 0 0 0 0 0 0 0 0 3 0 0]\n",
      " [0 0 0 0 0 0 2 0 0 0 0 0 0 1 2 0 1 1 0 0 0 1 2 0 0]\n",
      " [0 0 0 0 0 0 1 0 0 0 0 0 0 0 1 1 0 0 0 1 2 2 0 0 2]\n",
      " [0 0 0 0 0 0 0 0 0 0 0 0 0 7 0 1 0 0 1 0 0 1 0 0 0]\n",
      " [0 0 0 0 1 0 0 0 0 0 1 0 0 5 0 0 0 2 0 0 1 0 0 0 0]\n",
      " [1 0 0 0 0 0 0 0 0 0 0 1 0 0 1 0 0 0 0 6 1 0 0 0 0]\n",
      " [1 0 0 0 0 0 0 0 0 0 0 3 0 1 0 0 0 0 0 2 2 0 1 0 0]\n",
      " [1 0 0 0 0 0 0 0 0 0 0 3 0 0 0 0 0 0 0 0 6 0 0 0 0]\n",
      " [0 1 0 0 0 0 0 0 0 0 0 0 0 0 0 0 0 0 0 0 0 8 1 0 0]\n",
      " [0 0 0 0 0 0 0 0 0 0 0 0 0 1 0 0 0 0 0 0 0 9 0 0 0]\n",
      " [0 1 0 0 0 0 1 0 0 0 0 0 0 0 0 0 0 1 0 0 0 5 0 1 1]\n",
      " [0 0 0 0 0 0 0 0 0 0 0 0 0 1 0 0 0 0 0 0 0 7 0 0 2]]\n",
      "****************************************************************************************************\n",
      "\n",
      "Results for distilbert-base-uncased\n",
      "                                            Pertanyaan    Tag Predicted Tag  \\\n",
      "142  Bagaimana fokus pada kekuatan dan pencapaian d...  tag15         tag15   \n",
      "6    Bagaimana cara mengatasi perasaan tertekan kar...   tag1          tag5   \n",
      "97   Apa yang terjadi di otak ketika saya tidak tid...  tag10          tag6   \n",
      "60   Apa saja gejala yang menunjukkan bahwa kurang ...   tag7          tag7   \n",
      "112  Bagaimana cara mendengarkan teman yang sedang ...  tag12         tag12   \n",
      "\n",
      "     Prediction Time  \n",
      "142         0.000000  \n",
      "6           0.016870  \n",
      "97          0.000000  \n",
      "60          0.000000  \n",
      "112         0.015938  \n",
      "\n",
      "Training duration: 19.67264485359192 seconds\n",
      "Accuracy: 0.456\n",
      "Average prediction time: 0.005131147384643555 seconds\n",
      "\n",
      "              precision  recall  f1-score  support\n",
      "tag19          0.900000   0.900  0.900000   10.000\n",
      "tag15          0.857143   0.600  0.705882   10.000\n",
      "tag18          0.777778   0.700  0.736842   10.000\n",
      "tag11          0.777778   0.700  0.736842   10.000\n",
      "tag14          0.750000   0.600  0.666667   10.000\n",
      "tag25          0.750000   0.300  0.428571   10.000\n",
      "tag12          0.666667   1.000  0.800000   10.000\n",
      "tag9           0.666667   0.400  0.500000   10.000\n",
      "tag21          0.600000   0.900  0.720000   10.000\n",
      "tag24          0.600000   0.900  0.720000   10.000\n",
      "tag2           0.583333   0.700  0.636364   10.000\n",
      "tag7           0.571429   0.400  0.470588   10.000\n",
      "tag8           0.500000   0.100  0.166667   10.000\n",
      "accuracy       0.456000   0.456  0.456000    0.456\n",
      "weighted avg   0.454413   0.456  0.424351  250.000\n",
      "macro avg      0.454413   0.456  0.424351  250.000\n",
      "tag13          0.428571   0.300  0.352941   10.000\n",
      "tag20          0.357143   0.500  0.416667   10.000\n",
      "tag1           0.333333   0.200  0.250000   10.000\n",
      "tag10          0.285714   0.200  0.235294   10.000\n",
      "tag23          0.250000   0.100  0.142857   10.000\n",
      "tag16          0.238095   0.500  0.322581   10.000\n",
      "tag5           0.233333   0.700  0.350000   10.000\n",
      "tag6           0.233333   0.700  0.350000   10.000\n",
      "tag4           0.000000   0.000  0.000000   10.000\n",
      "tag3           0.000000   0.000  0.000000   10.000\n",
      "tag17          0.000000   0.000  0.000000   10.000\n",
      "tag22          0.000000   0.000  0.000000   10.000\n",
      "              precision    recall  f1-score   support\n",
      "\n",
      "        tag1       0.33      0.20      0.25        10\n",
      "       tag10       0.29      0.20      0.24        10\n",
      "       tag11       0.78      0.70      0.74        10\n",
      "       tag12       0.67      1.00      0.80        10\n",
      "       tag13       0.43      0.30      0.35        10\n",
      "       tag14       0.75      0.60      0.67        10\n",
      "       tag15       0.86      0.60      0.71        10\n",
      "       tag16       0.24      0.50      0.32        10\n",
      "       tag17       0.00      0.00      0.00        10\n",
      "       tag18       0.78      0.70      0.74        10\n",
      "       tag19       0.90      0.90      0.90        10\n",
      "        tag2       0.58      0.70      0.64        10\n",
      "       tag20       0.36      0.50      0.42        10\n",
      "       tag21       0.60      0.90      0.72        10\n",
      "       tag22       0.00      0.00      0.00        10\n",
      "       tag23       0.25      0.10      0.14        10\n",
      "       tag24       0.60      0.90      0.72        10\n",
      "       tag25       0.75      0.30      0.43        10\n",
      "        tag3       0.00      0.00      0.00        10\n",
      "        tag4       0.00      0.00      0.00        10\n",
      "        tag5       0.23      0.70      0.35        10\n",
      "        tag6       0.23      0.70      0.35        10\n",
      "        tag7       0.57      0.40      0.47        10\n",
      "        tag8       0.50      0.10      0.17        10\n",
      "        tag9       0.67      0.40      0.50        10\n",
      "\n",
      "    accuracy                           0.46       250\n",
      "   macro avg       0.45      0.46      0.42       250\n",
      "weighted avg       0.45      0.46      0.42       250\n",
      "\n",
      "\n",
      "['tag1' 'tag10' 'tag11' 'tag12' 'tag13' 'tag14' 'tag15' 'tag16' 'tag17'\n",
      " 'tag18' 'tag19' 'tag2' 'tag20' 'tag21' 'tag22' 'tag23' 'tag24' 'tag25'\n",
      " 'tag3' 'tag4' 'tag5' 'tag6' 'tag7' 'tag8' 'tag9']\n",
      "[[ 2  0  0  0  0  0  0  0  0  0  0  0  0  0  0  0  0  0  0  0  8  0  0  0\n",
      "   0]\n",
      " [ 0  2  0  0  0  0  0  0  0  0  0  0  0  0  0  0  1  0  0  0  0  6  1  0\n",
      "   0]\n",
      " [ 0  0  7  0  1  1  1  0  0  0  0  0  0  0  0  0  0  0  0  0  0  0  0  0\n",
      "   0]\n",
      " [ 0  0  0 10  0  0  0  0  0  0  0  0  0  0  0  0  0  0  0  0  0  0  0  0\n",
      "   0]\n",
      " [ 0  0  0  0  3  0  0  7  0  0  0  0  0  0  0  0  0  0  0  0  0  0  0  0\n",
      "   0]\n",
      " [ 0  0  1  0  1  6  0  1  0  1  0  0  0  0  0  0  0  0  0  0  0  0  0  0\n",
      "   0]\n",
      " [ 0  0  1  1  1  0  6  1  0  0  0  0  0  0  0  0  0  0  0  0  0  0  0  0\n",
      "   0]\n",
      " [ 0  0  0  0  0  0  0  5  1  1  0  0  0  1  0  0  0  0  0  0  0  1  0  0\n",
      "   1]\n",
      " [ 0  0  0  1  0  0  0  1  0  0  0  0  7  0  0  0  0  0  1  0  0  0  0  0\n",
      "   0]\n",
      " [ 0  0  0  0  0  0  0  2  0  7  0  0  1  0  0  0  0  0  0  0  0  0  0  0\n",
      "   0]\n",
      " [ 0  0  0  0  0  0  0  1  0  0  9  0  0  0  0  0  0  0  0  0  0  0  0  0\n",
      "   0]\n",
      " [ 0  0  0  0  0  0  0  0  0  0  0  7  0  0  0  0  0  0  0  0  3  0  0  0\n",
      "   0]\n",
      " [ 0  0  0  0  0  0  0  0  0  0  0  0  5  0  1  2  0  1  0  0  0  0  0  1\n",
      "   0]\n",
      " [ 0  0  0  0  0  0  0  0  0  0  0  0  0  9  0  0  1  0  0  0  0  0  0  0\n",
      "   0]\n",
      " [ 0  0  0  3  0  1  0  0  0  0  0  0  1  3  0  0  1  0  1  0  0  0  0  0\n",
      "   0]\n",
      " [ 0  0  0  0  1  0  0  2  0  0  1  0  0  0  0  1  0  0  4  0  0  0  0  0\n",
      "   1]\n",
      " [ 0  0  0  0  0  0  0  0  0  0  0  0  0  0  1  0  9  0  0  0  0  0  0  0\n",
      "   0]\n",
      " [ 0  1  0  0  0  0  0  0  0  0  0  0  0  2  0  0  3  3  1  0  0  0  0  0\n",
      "   0]\n",
      " [ 2  0  0  0  0  0  0  0  0  0  0  2  0  0  0  1  0  0  0  0  5  0  0  0\n",
      "   0]\n",
      " [ 2  0  0  0  0  0  0  0  0  0  0  0  0  0  0  0  0  0  1  0  7  0  0  0\n",
      "   0]\n",
      " [ 0  0  0  0  0  0  0  0  0  0  0  3  0  0  0  0  0  0  0  0  7  0  0  0\n",
      "   0]\n",
      " [ 0  1  0  0  0  0  0  0  0  0  0  0  0  0  0  0  0  0  0  0  0  7  2  0\n",
      "   0]\n",
      " [ 0  1  0  0  0  0  0  0  0  0  0  0  0  0  0  0  0  0  0  0  0  5  4  0\n",
      "   0]\n",
      " [ 0  2  0  0  0  0  0  1  1  0  0  0  0  0  0  0  0  0  0  0  0  5  0  1\n",
      "   0]\n",
      " [ 0  0  0  0  0  0  0  0  0  0  0  0  0  0  0  0  0  0  0  0  0  6  0  0\n",
      "   4]]\n",
      "****************************************************************************************************\n",
      "\n",
      "Results for mobilebert-uncased\n",
      "                                            Pertanyaan    Tag Predicted Tag  \\\n",
      "142  Bagaimana fokus pada kekuatan dan pencapaian d...  tag15         tag17   \n",
      "6    Bagaimana cara mengatasi perasaan tertekan kar...   tag1          tag3   \n",
      "97   Apa yang terjadi di otak ketika saya tidak tid...  tag10          tag6   \n",
      "60   Apa saja gejala yang menunjukkan bahwa kurang ...   tag7          tag6   \n",
      "112  Bagaimana cara mendengarkan teman yang sedang ...  tag12          tag3   \n",
      "\n",
      "     Prediction Time  \n",
      "142         0.033745  \n",
      "6           0.033485  \n",
      "97          0.033301  \n",
      "60          0.033422  \n",
      "112         0.033550  \n",
      "\n",
      "Training duration: 47.03628945350647 seconds\n",
      "Accuracy: 0.244\n",
      "Average prediction time: 0.03411412620544434 seconds\n",
      "\n",
      "              precision  recall  f1-score  support\n",
      "tag13          1.000000   0.100  0.181818   10.000\n",
      "tag25          1.000000   0.100  0.181818   10.000\n",
      "tag18          0.600000   0.300  0.400000   10.000\n",
      "tag24          0.500000   0.200  0.285714   10.000\n",
      "tag15          0.500000   0.100  0.166667   10.000\n",
      "tag20          0.500000   0.100  0.166667   10.000\n",
      "tag19          0.473684   0.900  0.620690   10.000\n",
      "tag2           0.400000   0.800  0.533333   10.000\n",
      "tag9           0.384615   0.500  0.434783   10.000\n",
      "macro avg      0.265146   0.244  0.188325  250.000\n",
      "weighted avg   0.265146   0.244  0.188325  250.000\n",
      "tag5           0.250000   0.300  0.272727   10.000\n",
      "accuracy       0.244000   0.244  0.244000    0.244\n",
      "tag17          0.228571   0.800  0.355556   10.000\n",
      "tag6           0.222222   0.600  0.324324   10.000\n",
      "tag21          0.214286   0.600  0.315789   10.000\n",
      "tag1           0.125000   0.300  0.176471   10.000\n",
      "tag10          0.125000   0.200  0.153846   10.000\n",
      "tag3           0.105263   0.200  0.137931   10.000\n",
      "tag23          0.000000   0.000  0.000000   10.000\n",
      "tag4           0.000000   0.000  0.000000   10.000\n",
      "tag16          0.000000   0.000  0.000000   10.000\n",
      "tag7           0.000000   0.000  0.000000   10.000\n",
      "tag8           0.000000   0.000  0.000000   10.000\n",
      "tag14          0.000000   0.000  0.000000   10.000\n",
      "tag12          0.000000   0.000  0.000000   10.000\n",
      "tag11          0.000000   0.000  0.000000   10.000\n",
      "tag22          0.000000   0.000  0.000000   10.000\n",
      "              precision    recall  f1-score   support\n",
      "\n",
      "        tag1       0.12      0.30      0.18        10\n",
      "       tag10       0.12      0.20      0.15        10\n",
      "       tag11       0.00      0.00      0.00        10\n",
      "       tag12       0.00      0.00      0.00        10\n",
      "       tag13       1.00      0.10      0.18        10\n",
      "       tag14       0.00      0.00      0.00        10\n",
      "       tag15       0.50      0.10      0.17        10\n",
      "       tag16       0.00      0.00      0.00        10\n",
      "       tag17       0.23      0.80      0.36        10\n",
      "       tag18       0.60      0.30      0.40        10\n",
      "       tag19       0.47      0.90      0.62        10\n",
      "        tag2       0.40      0.80      0.53        10\n",
      "       tag20       0.50      0.10      0.17        10\n",
      "       tag21       0.21      0.60      0.32        10\n",
      "       tag22       0.00      0.00      0.00        10\n",
      "       tag23       0.00      0.00      0.00        10\n",
      "       tag24       0.50      0.20      0.29        10\n",
      "       tag25       1.00      0.10      0.18        10\n",
      "        tag3       0.11      0.20      0.14        10\n",
      "        tag4       0.00      0.00      0.00        10\n",
      "        tag5       0.25      0.30      0.27        10\n",
      "        tag6       0.22      0.60      0.32        10\n",
      "        tag7       0.00      0.00      0.00        10\n",
      "        tag8       0.00      0.00      0.00        10\n",
      "        tag9       0.38      0.50      0.43        10\n",
      "\n",
      "    accuracy                           0.24       250\n",
      "   macro avg       0.27      0.24      0.19       250\n",
      "weighted avg       0.27      0.24      0.19       250\n",
      "\n",
      "\n",
      "['tag1' 'tag10' 'tag11' 'tag12' 'tag13' 'tag14' 'tag15' 'tag16' 'tag17'\n",
      " 'tag18' 'tag19' 'tag2' 'tag20' 'tag21' 'tag22' 'tag23' 'tag24' 'tag25'\n",
      " 'tag3' 'tag4' 'tag5' 'tag6' 'tag7' 'tag8' 'tag9']\n",
      "[[3 0 0 0 0 0 0 0 0 0 0 1 0 0 0 0 0 0 3 0 3 0 0 0 0]\n",
      " [0 2 0 0 0 0 0 0 0 0 0 0 0 0 0 3 1 0 0 0 0 3 0 0 1]\n",
      " [1 1 0 0 0 0 0 0 3 0 2 0 0 0 0 0 0 0 0 2 0 1 0 0 0]\n",
      " [0 0 0 0 0 0 0 0 0 0 0 0 0 5 0 0 0 0 5 0 0 0 0 0 0]\n",
      " [0 2 0 0 1 0 0 0 1 0 1 0 0 2 0 1 0 0 0 1 1 0 0 0 0]\n",
      " [0 0 0 0 0 0 0 2 2 2 1 1 0 1 0 0 0 0 0 0 0 1 0 0 0]\n",
      " [0 0 0 0 0 0 1 0 1 0 6 0 0 0 0 0 0 0 2 0 0 0 0 0 0]\n",
      " [0 0 0 0 0 0 0 0 5 0 0 0 0 1 0 1 0 0 0 0 1 1 0 0 1]\n",
      " [0 0 0 0 0 0 0 1 8 0 0 1 0 0 0 0 0 0 0 0 0 0 0 0 0]\n",
      " [0 0 0 0 0 0 0 1 6 3 0 0 0 0 0 0 0 0 0 0 0 0 0 0 0]\n",
      " [0 0 0 0 0 0 0 0 1 0 9 0 0 0 0 0 0 0 0 0 0 0 0 0 0]\n",
      " [1 0 0 0 0 0 0 0 0 0 0 8 0 0 0 0 0 0 0 0 1 0 0 0 0]\n",
      " [0 0 0 0 0 0 0 0 6 0 0 0 1 1 0 1 1 0 0 0 0 0 0 0 0]\n",
      " [1 1 0 0 0 0 0 0 1 0 0 0 0 6 0 1 0 0 0 0 0 0 0 0 0]\n",
      " [0 0 0 0 0 0 1 0 0 0 0 0 0 3 0 0 0 0 5 0 0 1 0 0 0]\n",
      " [1 1 1 0 0 1 0 0 0 0 0 2 1 0 0 0 0 0 0 0 1 1 0 0 1]\n",
      " [0 0 0 0 0 0 0 0 0 0 0 0 0 3 0 3 2 0 0 1 0 1 0 0 0]\n",
      " [1 0 0 0 0 0 0 1 0 0 0 0 0 6 0 0 0 1 1 0 0 0 0 0 0]\n",
      " [4 0 0 0 0 0 0 0 1 0 0 3 0 0 0 0 0 0 2 0 0 0 0 0 0]\n",
      " [5 0 0 0 0 0 0 0 0 0 0 3 0 0 0 0 0 0 0 0 2 0 0 0 0]\n",
      " [6 0 0 0 0 0 0 0 0 0 0 1 0 0 0 0 0 0 0 0 3 0 0 0 0]\n",
      " [0 1 0 0 0 0 0 0 0 0 0 0 0 0 0 0 0 0 0 0 0 6 0 0 3]\n",
      " [0 2 0 0 0 0 0 0 0 0 0 0 0 0 0 0 0 0 0 0 0 8 0 0 0]\n",
      " [1 3 0 0 0 0 0 0 0 0 0 0 0 0 0 0 0 0 1 0 0 3 0 0 2]\n",
      " [0 3 0 0 0 0 0 0 0 0 0 0 0 0 0 1 0 0 0 0 0 1 0 0 5]]\n",
      "****************************************************************************************************\n",
      "\n",
      "Results for bert-base-indonesian-522M\n",
      "                                            Pertanyaan    Tag Predicted Tag  \\\n",
      "142  Bagaimana fokus pada kekuatan dan pencapaian d...  tag15         tag19   \n",
      "6    Bagaimana cara mengatasi perasaan tertekan kar...   tag1          tag4   \n",
      "97   Apa yang terjadi di otak ketika saya tidak tid...  tag10          tag6   \n",
      "60   Apa saja gejala yang menunjukkan bahwa kurang ...   tag7          tag7   \n",
      "112  Bagaimana cara mendengarkan teman yang sedang ...  tag12         tag12   \n",
      "\n",
      "     Prediction Time  \n",
      "142         0.000000  \n",
      "6           0.019445  \n",
      "97          0.007006  \n",
      "60          0.007424  \n",
      "112         0.007005  \n",
      "\n",
      "Training duration: 22.621609210968018 seconds\n",
      "Accuracy: 0.484\n",
      "Average prediction time: 0.0070958671569824215 seconds\n",
      "\n",
      "              precision  recall  f1-score  support\n",
      "tag22          1.000000   0.300  0.461538   10.000\n",
      "tag13          1.000000   0.100  0.181818   10.000\n",
      "tag14          1.000000   0.300  0.461538   10.000\n",
      "tag2           1.000000   0.600  0.750000   10.000\n",
      "tag25          1.000000   0.200  0.333333   10.000\n",
      "tag18          0.857143   0.600  0.705882   10.000\n",
      "tag24          0.833333   0.500  0.625000   10.000\n",
      "tag7           0.833333   0.500  0.625000   10.000\n",
      "tag20          0.818182   0.900  0.857143   10.000\n",
      "tag12          0.750000   0.900  0.818182   10.000\n",
      "tag8           0.750000   0.300  0.428571   10.000\n",
      "tag9           0.666667   0.200  0.307692   10.000\n",
      "tag17          0.666667   0.600  0.631579   10.000\n",
      "tag21          0.666667   0.600  0.631579   10.000\n",
      "tag11          0.636364   0.700  0.666667   10.000\n",
      "macro avg      0.632435   0.484  0.471190  250.000\n",
      "weighted avg   0.632435   0.484  0.471190  250.000\n",
      "tag15          0.583333   0.700  0.636364   10.000\n",
      "tag3           0.500000   0.200  0.285714   10.000\n",
      "tag4           0.500000   0.100  0.166667   10.000\n",
      "accuracy       0.484000   0.484  0.484000    0.484\n",
      "tag19          0.454545   1.000  0.625000   10.000\n",
      "tag10          0.333333   0.200  0.250000   10.000\n",
      "tag5           0.303030   1.000  0.465116   10.000\n",
      "tag16          0.250000   0.600  0.352941   10.000\n",
      "tag1           0.222222   0.200  0.210526   10.000\n",
      "tag6           0.186047   0.800  0.301887   10.000\n",
      "tag23          0.000000   0.000  0.000000   10.000\n",
      "              precision    recall  f1-score   support\n",
      "\n",
      "        tag1       0.22      0.20      0.21        10\n",
      "       tag10       0.33      0.20      0.25        10\n",
      "       tag11       0.64      0.70      0.67        10\n",
      "       tag12       0.75      0.90      0.82        10\n",
      "       tag13       1.00      0.10      0.18        10\n",
      "       tag14       1.00      0.30      0.46        10\n",
      "       tag15       0.58      0.70      0.64        10\n",
      "       tag16       0.25      0.60      0.35        10\n",
      "       tag17       0.67      0.60      0.63        10\n",
      "       tag18       0.86      0.60      0.71        10\n",
      "       tag19       0.45      1.00      0.62        10\n",
      "        tag2       1.00      0.60      0.75        10\n",
      "       tag20       0.82      0.90      0.86        10\n",
      "       tag21       0.67      0.60      0.63        10\n",
      "       tag22       1.00      0.30      0.46        10\n",
      "       tag23       0.00      0.00      0.00        10\n",
      "       tag24       0.83      0.50      0.62        10\n",
      "       tag25       1.00      0.20      0.33        10\n",
      "        tag3       0.50      0.20      0.29        10\n",
      "        tag4       0.50      0.10      0.17        10\n",
      "        tag5       0.30      1.00      0.47        10\n",
      "        tag6       0.19      0.80      0.30        10\n",
      "        tag7       0.83      0.50      0.62        10\n",
      "        tag8       0.75      0.30      0.43        10\n",
      "        tag9       0.67      0.20      0.31        10\n",
      "\n",
      "    accuracy                           0.48       250\n",
      "   macro avg       0.63      0.48      0.47       250\n",
      "weighted avg       0.63      0.48      0.47       250\n",
      "\n",
      "\n",
      "['tag1' 'tag10' 'tag11' 'tag12' 'tag13' 'tag14' 'tag15' 'tag16' 'tag17'\n",
      " 'tag18' 'tag19' 'tag2' 'tag20' 'tag21' 'tag22' 'tag23' 'tag24' 'tag25'\n",
      " 'tag3' 'tag4' 'tag5' 'tag6' 'tag7' 'tag8' 'tag9']\n",
      "[[ 2  0  0  0  0  0  0  0  0  0  0  0  0  0  0  0  0  0  0  1  7  0  0  0\n",
      "   0]\n",
      " [ 0  2  0  0  0  0  0  0  0  0  0  0  0  0  0  0  0  0  0  0  0  8  0  0\n",
      "   0]\n",
      " [ 0  0  7  0  0  0  3  0  0  0  0  0  0  0  0  0  0  0  0  0  0  0  0  0\n",
      "   0]\n",
      " [ 0  0  0  9  0  0  1  0  0  0  0  0  0  0  0  0  0  0  0  0  0  0  0  0\n",
      "   0]\n",
      " [ 0  0  0  0  1  0  0  8  0  0  1  0  0  0  0  0  0  0  0  0  0  0  0  0\n",
      "   0]\n",
      " [ 0  0  4  0  0  3  1  2  0  0  0  0  0  0  0  0  0  0  0  0  0  0  0  0\n",
      "   0]\n",
      " [ 0  0  0  0  0  0  7  0  0  0  3  0  0  0  0  0  0  0  0  0  0  0  0  0\n",
      "   0]\n",
      " [ 0  0  0  0  0  0  0  6  1  0  1  0  0  1  0  0  1  0  0  0  0  0  0  0\n",
      "   0]\n",
      " [ 0  0  0  1  0  0  0  0  6  0  1  0  2  0  0  0  0  0  0  0  0  0  0  0\n",
      "   0]\n",
      " [ 0  0  0  0  0  0  0  4  0  6  0  0  0  0  0  0  0  0  0  0  0  0  0  0\n",
      "   0]\n",
      " [ 0  0  0  0  0  0  0  0  0  0 10  0  0  0  0  0  0  0  0  0  0  0  0  0\n",
      "   0]\n",
      " [ 1  0  0  0  0  0  0  0  0  0  0  6  0  0  0  0  0  0  0  0  3  0  0  0\n",
      "   0]\n",
      " [ 0  0  0  0  0  0  0  0  0  0  0  0  9  0  0  0  0  0  0  0  0  1  0  0\n",
      "   0]\n",
      " [ 0  0  0  0  0  0  0  0  0  0  1  0  0  6  0  0  0  0  0  0  0  3  0  0\n",
      "   0]\n",
      " [ 0  0  0  1  0  0  0  0  1  0  3  0  0  1  3  0  0  0  0  0  0  1  0  0\n",
      "   0]\n",
      " [ 1  0  0  0  0  0  0  0  1  1  2  0  0  0  0  0  0  0  2  0  1  1  0  0\n",
      "   1]\n",
      " [ 0  0  0  0  0  0  0  1  0  0  0  0  0  0  0  0  5  0  0  0  0  4  0  0\n",
      "   0]\n",
      " [ 0  0  0  1  0  0  0  1  0  0  0  0  0  1  0  2  0  2  0  0  0  3  0  0\n",
      "   0]\n",
      " [ 4  0  0  0  0  0  0  0  0  0  0  0  0  0  0  0  0  0  2  0  3  1  0  0\n",
      "   0]\n",
      " [ 1  0  0  0  0  0  0  0  0  0  0  0  0  0  0  0  0  0  0  1  8  0  0  0\n",
      "   0]\n",
      " [ 0  0  0  0  0  0  0  0  0  0  0  0  0  0  0  0  0  0  0  0 10  0  0  0\n",
      "   0]\n",
      " [ 0  1  0  0  0  0  0  0  0  0  0  0  0  0  0  0  0  0  0  0  0  8  1  0\n",
      "   0]\n",
      " [ 0  1  0  0  0  0  0  0  0  0  0  0  0  0  0  0  0  0  0  0  0  4  5  0\n",
      "   0]\n",
      " [ 0  2  0  0  0  0  0  2  0  0  0  0  0  0  0  0  0  0  0  0  1  2  0  3\n",
      "   0]\n",
      " [ 0  0  0  0  0  0  0  0  0  0  0  0  0  0  0  0  0  0  0  0  0  7  0  1\n",
      "   2]]\n",
      "****************************************************************************************************\n",
      "\n",
      "                            Model  Training Time  Accuracy  \\\n",
      "5       bert-base-indonesian-522M      22.621609     0.484   \n",
      "3         distilbert-base-uncased      19.672645     0.456   \n",
      "0               bert-base-uncased      36.041280     0.436   \n",
      "1  bert-base-multilingual-uncased      30.750759     0.380   \n",
      "2                  albert-base-v2      35.401252     0.304   \n",
      "4              mobilebert-uncased      47.036289     0.244   \n",
      "\n",
      "   Average Prediction Time  \n",
      "5                 0.007096  \n",
      "3                 0.005131  \n",
      "0                 0.019018  \n",
      "1                 0.007446  \n",
      "2                 0.008695  \n",
      "4                 0.034114  \n"
     ]
    }
   ],
   "source": [
    "RESULT_FILE = 'results/mental_health_prediction_results.xlsx'\n",
    "model_nicknames = []\n",
    "model_training_time = []\n",
    "model_accuracy = []\n",
    "model_average_prediction_time = []\n",
    "for model_nickname in model_results:\n",
    "    print(f\"Results for {model_nickname}\")\n",
    "    # print(model_results[model_nickname].columns)\n",
    "    print(model_results[model_nickname].head())\n",
    "    print()\n",
    "\n",
    "    training_duration = training_durations[model_nickname]\n",
    "    correct_predictions = (model_results[model_nickname]['Tag'] == model_results[model_nickname]['Predicted Tag']).sum()\n",
    "    total_predictions = len(model_results[model_nickname])\n",
    "    accuracy = correct_predictions / total_predictions\n",
    "    average_prediction_time = model_results[model_nickname]['Prediction Time'].mean()\n",
    "\n",
    "    print(f\"Training duration: {training_duration} seconds\")\n",
    "    print(f\"Accuracy: {accuracy}\")\n",
    "    print(f\"Average prediction time: {average_prediction_time} seconds\")\n",
    "    print()\n",
    "\n",
    "    model_nicknames.append(model_nickname)\n",
    "    model_training_time.append(training_duration)\n",
    "    model_accuracy.append(accuracy)\n",
    "    model_average_prediction_time.append(average_prediction_time)\n",
    "\n",
    "    # Sort by tag name\n",
    "    model_results[model_nickname] = model_results[model_nickname].sort_values(by=['Tag'])\n",
    "    # Generate the classification report as a dictionary\n",
    "    report_dict = classification_report(model_results[model_nickname]['Tag'], \n",
    "                                        model_results[model_nickname]['Predicted Tag'], \n",
    "                                        zero_division=0, output_dict=True)\n",
    "    # Convert the report dictionary into a DataFrame\n",
    "    df_report = pd.DataFrame(report_dict).transpose()\n",
    "    # Sort the DataFrame by precision (descending order)\n",
    "    df_report_sorted = df_report.sort_values(by='precision', ascending=False)\n",
    "    # Print the sorted DataFrame\n",
    "    print(df_report_sorted)\n",
    "    print(classification_report(model_results[model_nickname]['Tag'], model_results[model_nickname]['Predicted Tag'], zero_division=0))\n",
    "    print()\n",
    "\n",
    "    print(np.unique(model_results[model_nickname]['Tag']))\n",
    "    print(confusion_matrix(model_results[model_nickname]['Tag'], model_results[model_nickname]['Predicted Tag']))\n",
    "    print(\"*\" * 100)\n",
    "    print()\n",
    "\n",
    "    save_to_excel(model_results[model_nickname], RESULT_FILE, model_nickname)\n",
    "\n",
    "comparison_results = pd.DataFrame({\n",
    "    'Model': model_nicknames,\n",
    "    'Training Time': model_training_time,\n",
    "    'Accuracy': model_accuracy,\n",
    "    'Average Prediction Time': model_average_prediction_time\n",
    "})\n",
    "\n",
    "comparison_results = comparison_results.sort_values(by=['Accuracy'], ascending=False)\n",
    "print(comparison_results)\n",
    "\n",
    "save_to_excel(comparison_results, RESULT_FILE, 'Comparison Results')"
   ]
  }
 ],
 "metadata": {
  "kernelspec": {
   "display_name": "Python 3",
   "language": "python",
   "name": "python3"
  },
  "language_info": {
   "codemirror_mode": {
    "name": "ipython",
    "version": 3
   },
   "file_extension": ".py",
   "mimetype": "text/x-python",
   "name": "python",
   "nbconvert_exporter": "python",
   "pygments_lexer": "ipython3",
   "version": "3.12.7"
  }
 },
 "nbformat": 4,
 "nbformat_minor": 2
}
